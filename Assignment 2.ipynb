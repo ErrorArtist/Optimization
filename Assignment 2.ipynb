{
 "cells": [
  {
   "cell_type": "markdown",
   "id": "oVG6g_50InA_",
   "metadata": {
    "id": "oVG6g_50InA_"
   },
   "source": [
    "## <font color=red>(Part A) Transportation problem</font>\n",
    "\n",
    "From <I>Linear and Integer Optimization</I>, Gerard Sierksma & Yori Zwols, 3$^{ed}$, CRC Press, 2015 (Chapter 8.2.1, page 345).\n",
    "\n",
    "A truck rental company has three depots, labeled 1, 2, 3, at which a total of 8, 5, and 6 vehicles, respectively, are parked. Furthermore, there are five customers, labeled 1, ..., 5, demanding 2, 3, 5, 2, and 7 vehicles, respectively. The transportation costs (per vehicle) from the depots to the customers are listed in table (a) below. The problem is to transport the vehicles from the depots to the customers, making sure that the demand of the customers is satisfied, and in such a way that the total transportation costs are minimized. The figure (b) illustrates the situation by means of a graph.\n",
    "\n",
    "\n",
    "### Formulating the mathematical model:\n",
    "For $i$ = 1, 2, 3 and $j$ = 1, 2, 3, 4, 5, let $c_{ij}$ be the transportation cost from depot $i$ to customer $j$, and let <font color = red>$x_{ij}$ be the number of vehicles that are to be transported from depot $i$ to customer $j$;</font> the cost of transporting $x_{ij}$ vehicles from $i$ to $j$ is therefore $c_{ij}x_{ij}$. Moreover, let $a_i$ be the number of vehicles in depot $i$ (the supply). Hence, $a_1$ = 8, $a_2$ = 5, $a_3$ = 6. Let $b_j$ be the number of vehicles ordered by customer $j$ (the demand). Hence, $b_1$ = 2, $b_2$ = 3, $b_3$ = 5, $b_4$ = 2, $b_5$ = 7. Note that the problem is <B><font color = red>balanced</font></B> and can formulated as an ILO-model as follows:\n",
    "\n",
    "min z = $4x_{11} +3x_{12} +8x_{13} +7x_{14} +9x_{15} $<BR>\n",
    "&emsp; &emsp; $+6x_{21} +5x_{22} +6x_{23}+ 4x_{24} +5x_{25} $<BR>\n",
    "&emsp; &emsp; $+7x_{31} +4x_{32} +7x_{33} +5x_{34} +4x_{35}$ <BR>\n",
    "s.t. $ x_{11} +x_{12} +x_{13} +x_{14} +x_{15} = 8$<BR>\n",
    "&emsp; $x_{21} +x_{22} +x_{23} +x_{24} +x_{25} = 5 $<BR>\n",
    "&emsp; $x_{31} +x_{32} +x_{33} +x_{34} +x_{35} = 6$<BR>\n",
    "&emsp; $x_{11}+x_{21}+x_{31} = 2$<BR>\n",
    "&emsp; $x_{12}+x_{22}+x_{32} = 3$<BR>\n",
    "&emsp; $x_{13}+x_{23}+x_{33} = 5$<BR>\n",
    "&emsp; $x_{14}+x_{24}+x_{34} = 2$<BR>\n",
    "&emsp; $x_{15}+x_{25}+x_{35} = 7$<BR> \n",
    "&emsp; $x_{11}, ..., x_{35} ≥ 0$, and integer.\n",
    "\n",
    "### Implementation in Python:"
   ]
  },
  {
   "cell_type": "code",
   "execution_count": 1,
   "id": "B1Smw36PJskO",
   "metadata": {
    "colab": {
     "base_uri": "https://localhost:8080/"
    },
    "id": "B1Smw36PJskO",
    "outputId": "afee5693-1bab-4a56-e03e-079af381fa93"
   },
   "outputs": [
    {
     "name": "stdout",
     "output_type": "stream",
     "text": [
      "Requirement already satisfied: gurobipy in d:\\uva\\everythingaboutpython\\lib\\site-packages (11.0.0)\n"
     ]
    }
   ],
   "source": [
    "! pip install gurobipy\n"
   ]
  },
  {
   "cell_type": "code",
   "execution_count": 2,
   "id": "4MVHbu75InBC",
   "metadata": {
    "id": "4MVHbu75InBC"
   },
   "outputs": [],
   "source": [
    "from gurobipy import *\n",
    "\n",
    "def TransportationModel(supply, demand, cost):\n",
    "\n",
    "    depots    = range(len(supply))         # Indices for the depots\n",
    "    customers = range(len(demand))         # Indices for the customers\n",
    "\n",
    "    if sum(supply) < sum(demand):\n",
    "        print(\"Not balanced: supply (\", sum(supply), \") < demand (\", sum(demand), \")\")\n",
    "        return Model()                                                             # Unbalanced problems are not solved\n",
    "    elif sum(supply) > sum(demand):\n",
    "        print(\"Not balanced: supply (\", sum(supply), \") > demand (\", sum(demand), \")\")\n",
    "        return Model()                                                             # Unbalanced problems are not solved\n",
    "\n",
    "    m = Model(\"Transportation\")\n",
    "    x = m.addVars(depots, customers, name = \"Flow\")          # no need to define as INTEGERs (see week 3)\n",
    "\n",
    "    m.setObjective( quicksum(cost[i,j]*x[i,j] for i in depots for j in customers), GRB.MINIMIZE)\n",
    "    m.addConstrs( (x.sum(i, \"*\") == supply[i] for i in depots), 'Supply')\n",
    "    m.addConstrs( (x.sum(\"*\", j) == demand[j] for j in customers), 'Demand')\n",
    "    m.update()\n",
    "\n",
    "    return m"
   ]
  },
  {
   "cell_type": "markdown",
   "id": "suhOI4S7InBE",
   "metadata": {
    "id": "suhOI4S7InBE"
   },
   "source": [
    "### Use the model to solve the problem instance from the textbook:"
   ]
  },
  {
   "cell_type": "code",
   "execution_count": 3,
   "id": "jtgpL4snInBF",
   "metadata": {
    "colab": {
     "base_uri": "https://localhost:8080/"
    },
    "id": "jtgpL4snInBF",
    "outputId": "4b477653-3039-4000-8c51-9dde2e987f85"
   },
   "outputs": [
    {
     "name": "stdout",
     "output_type": "stream",
     "text": [
      "Restricted license - for non-production use only - expires 2025-11-24\n",
      "Model has 15 variables, 8 constraints and 30 nonzeros\n",
      "\n",
      "The optimal objective is 90\n",
      "\n",
      "VarName           |   value      c_ij    red.cost\n",
      "Flow[0,0]         |   2.000      4.00       0.00\n",
      "Flow[0,1]         |   3.000      3.00       0.00\n",
      "Flow[0,2]         |   3.000      8.00       0.00\n",
      "Flow[1,2]         |   2.000      6.00       0.00\n",
      "Flow[1,3]         |   2.000      4.00       0.00\n",
      "Flow[1,4]         |   1.000      5.00       0.00\n",
      "Flow[2,4]         |   6.000      4.00       0.00\n",
      "\n",
      "ConstrName        |     RHS     Slack         Pi\n",
      "Supply[0]         |    8.00      0.00       2.00\n",
      "Supply[1]         |    5.00      0.00       0.00\n",
      "Supply[2]         |    6.00      0.00      -1.00\n",
      "Demand[0]         |    2.00      0.00       2.00\n",
      "Demand[1]         |    3.00      0.00       1.00\n",
      "Demand[2]         |    5.00      0.00       6.00\n",
      "Demand[3]         |    2.00      0.00       4.00\n",
      "Demand[4]         |    7.00      0.00       5.00\n"
     ]
    }
   ],
   "source": [
    "import numpy as np\n",
    "\n",
    "m = 3                                                                            # A small problem instance\n",
    "n = 5\n",
    "a = [8, 5, 6]                                                                    # Parameter a: supply\n",
    "b = [2, 3, 5, 2, 7]                                                              # Parameter b: demand\n",
    "c = np.array([ [4, 3, 8, 7, 9], [6, 5, 6, 4, 5], [7, 4, 7, 5, 4] ])              # Parameter c: unit cost matrix\n",
    "\n",
    "TP = TransportationModel(a, b, c)\n",
    "TP.Params.LogToConsole = 0\n",
    "print(f'Model has {TP.NumVars} variables, {TP.NumConstrs} constraints and {TP.NumNZs} nonzeros\\n')\n",
    "\n",
    "TP.optimize()\n",
    "\n",
    "status = TP.Status\n",
    "if status != GRB.OPTIMAL:\n",
    "    print(f\"Optimization was stopped with status {status}\")\n",
    "else:\n",
    "    print(f\"The optimal objective is {TP.ObjVal:g}\")\n",
    "    print(\"\\nVarName           |   value      c_ij    red.cost\")\n",
    "    for var in TP.getVars():\n",
    "        if var.x > 0.5:\n",
    "            print(f\"{var.VarName:17} |{var.X:8.3f}  {var.obj:8.2f}   {var.rc:8.2f}\")\n",
    "    print(\"\\nConstrName        |     RHS     Slack         Pi\")\n",
    "    for cons in TP.getConstrs():\n",
    "        print(f\"{cons.ConstrName:17} |{cons.rhs:8.2f}  {cons.Slack:8.2f}   {cons.pi:8.2f}\")"
   ]
  },
  {
   "cell_type": "markdown",
   "id": "N5ottinnInBG",
   "metadata": {
    "id": "N5ottinnInBG"
   },
   "source": [
    "### Problem W2.0\n",
    "\n",
    "As follow-up questions on the problem solved above: write a few line of code that produce:\n",
    "   - the objective value of the dual (z_dual) and compares the value with the objective value of the primal\n",
    "   - use the duals to calculate the reduced cost for the basic variables. (Are they all equal to 0?)\n",
    "   - use the duals to calculate the reduced cost for the non-basic variables. (Are they all < 0?)"
   ]
  },
  {
   "cell_type": "code",
   "execution_count": 4,
   "id": "Tdu2es6YInBG",
   "metadata": {
    "colab": {
     "base_uri": "https://localhost:8080/"
    },
    "id": "Tdu2es6YInBG",
    "outputId": "202318d3-7ef5-4ffd-d38d-552ed9b0d748"
   },
   "outputs": [
    {
     "name": "stdout",
     "output_type": "stream",
     "text": [
      "[[2. 3. 3. 0. 0.]\n",
      " [0. 0. 2. 2. 1.]\n",
      " [0. 0. 0. 0. 6.]]\n"
     ]
    }
   ],
   "source": [
    "import numpy as np\n",
    "from itertools import product\n",
    "\n",
    "# Extract the primal solution x\n",
    "x = np.array([var.x for var in TP.getVars()]).reshape(m,n)\n",
    "print(x)\n"
   ]
  },
  {
   "cell_type": "code",
   "execution_count": 5,
   "id": "tDmGttY8TAlZ",
   "metadata": {
    "colab": {
     "base_uri": "https://localhost:8080/"
    },
    "id": "tDmGttY8TAlZ",
    "outputId": "2376e094-591a-449a-d304-e18a74667f31"
   },
   "outputs": [
    {
     "name": "stdout",
     "output_type": "stream",
     "text": [
      "[[2. 3. 3. 0. 0.]\n",
      " [0. 0. 2. 2. 1.]\n",
      " [0. 0. 0. 0. 6.]]\n",
      "[ 2.  0. -1.] [2. 1. 6. 4. 5.]\n",
      "Primal Objective Value: 90, Dual Objective Value: 90\n"
     ]
    }
   ],
   "source": [
    "import numpy as np\n",
    "from itertools import product\n",
    "\n",
    "# Extract the primal solution x\n",
    "x = np.array([var.x for var in TP.getVars()]).reshape(m,n)\n",
    "print(x)\n",
    "# Extract the dual solution u and v\n",
    "u, v = np.array([cons.pi for cons in TP.getConstrs()][0:m]), np.array([cons.pi for cons in TP.getConstrs()][m:m+n])\n",
    "#u is dual solution for supply\n",
    "#v is dual solution for demand\n",
    "print(u,v)\n",
    "\n",
    "z_dual = sum(u[i]*a[i] for i in range(m)) + sum(v[j]*b[j] for j in range(n))\n",
    "print(f\"Primal Objective Value: {TP.ObjVal:g}, Dual Objective Value: {z_dual:g}\")\n",
    "#dual solution = primal solution"
   ]
  },
  {
   "cell_type": "code",
   "execution_count": 6,
   "id": "EWa3Z2VfvPUX",
   "metadata": {
    "colab": {
     "base_uri": "https://localhost:8080/"
    },
    "id": "EWa3Z2VfvPUX",
    "outputId": "235e270e-e45f-4325-9b4e-8c0ac910d6cc"
   },
   "outputs": [
    {
     "name": "stdout",
     "output_type": "stream",
     "text": [
      "Reduced costs for basic variables (should be 0): [0.0, 0.0, 0.0, 0.0, 0.0, 0.0, 0.0]\n",
      "Are all reduced costs for basic variables 0? True\n",
      "Reduced costs for non-basic variables (should be < 0): [-1.0, -2.0, -4.0, -4.0, -6.0, -4.0, -2.0, -2.0]\n",
      "Are all reduced costs for non-basic variables < 0? True\n"
     ]
    }
   ],
   "source": [
    "# Task 2 & 3: Calculate reduced costs and categorize as basic or non-basic\n",
    "basic_vars_reduced_cost = []\n",
    "non_basic_vars_reduced_cost = []\n",
    "\n",
    "for i, j in product(range(m), range(n)):\n",
    "    reduced_cost = c[i, j] - u[i] - v[j]\n",
    "    if x[i, j] > 0:  # Basic variable\n",
    "        basic_vars_reduced_cost.append(reduced_cost)\n",
    "    else:  # Non-basic variable\n",
    "        non_basic_vars_reduced_cost.append(-reduced_cost) #for intervention, diff between lecture & gurobi\n",
    "\n",
    "print(\"Reduced costs for basic variables (should be 0):\", basic_vars_reduced_cost)\n",
    "print(\"Are all reduced costs for basic variables 0?\", all(np.isclose(rc, 0) for rc in basic_vars_reduced_cost))\n",
    "\n",
    "print(\"Reduced costs for non-basic variables (should be < 0):\", non_basic_vars_reduced_cost)\n",
    "print(\"Are all reduced costs for non-basic variables < 0?\", all(rc < 0 for rc in non_basic_vars_reduced_cost))"
   ]
  },
  {
   "cell_type": "markdown",
   "id": "CV7G6HS4InBG",
   "metadata": {
    "id": "CV7G6HS4InBG"
   },
   "source": [
    "## <font color=red>(Part B) Use the model with all kinds of data</font>\n",
    "\n",
    "As in real life, most transportation problems are not balanced, can formulate to similar models: one for problems with total supply > total demand and one for problems with total supply < total demand. Alternatively, we can just simply adjust the data in case we encounter an unbalanced problem. That is, add either a dummy supply node or a dummy demand node.\n",
    "- (A) to study the balanced version of the Transportation Problem,\n",
    "- (B) use it for an unbalanced problem with data being read from an Excel file,\n",
    "- (C) and use it for a coaching problem similar to the Linear Assignment Problem. More concrete, four swimmers need to be selected for the three 4x100m Medley teams (Womens, Mens and Mixed team). See if you select the gold winning team from the last European Championship.\n",
    "\n",
    "### Problem W2.1\n",
    "In the cell below, data is read from an Excel-file \"Transportation.xlsx\" for an unbalanced Transportation Problem. Running the cell, you will notice that it will not yield a solution. Modify the code below (not the TransportationModel() function) in order to get an equivalent balanced problem instance and present the solution for the original problem instance."
   ]
  },
  {
   "cell_type": "code",
   "execution_count": 7,
   "id": "ZU9YLJ5dInBG",
   "metadata": {
    "colab": {
     "base_uri": "https://localhost:8080/"
    },
    "id": "ZU9YLJ5dInBG",
    "outputId": "14b2bc3e-c014-42ee-ad85-fe415d3cc86c"
   },
   "outputs": [
    {
     "name": "stdout",
     "output_type": "stream",
     "text": [
      "Adjusted Cost matrix:\n",
      "[[ 13  10  22  29  18   0]\n",
      " [ 14  13  16  21 999   0]\n",
      " [  3   0 999  11   6   0]\n",
      " [ 18   9  19  23  11   0]\n",
      " [ 30  24  34  36  28   0]]\n",
      "Adjusted Supply: [5, 6, 7, 4, 3]\n",
      "Adjusted Demand: [3, 5, 4, 5, 6, 2]\n",
      "Model has 30 variables, 11 constraints and 60 nonzeros\n",
      "\n",
      "Flow[0,0] =   3.00\n",
      "Flow[0,1] =   2.00\n",
      "Flow[1,2] =   4.00\n",
      "Flow[1,3] =   2.00\n",
      "Flow[2,1] =   3.00\n",
      "Flow[2,3] =   3.00\n",
      "Flow[2,4] =   1.00\n",
      "Flow[3,4] =   4.00\n",
      "Flow[4,4] =   1.00\n",
      "Flow[4,5] =   2.00\n"
     ]
    }
   ],
   "source": [
    "import pandas as pd\n",
    "import numpy as np\n",
    "\n",
    "m = 5\n",
    "n = 5\n",
    "c = pd.read_excel(\"Transportation.xlsx\", sheet_name = 'Example', header = None, skiprows = 1, nrows = m, usecols = 'B:F').values.tolist()\n",
    "a = pd.read_excel(\"Transportation.xlsx\", sheet_name = 'Example', header = None, skiprows = 1, nrows = m, usecols = 'G').values.flatten().tolist()\n",
    "b = pd.read_excel(\"Transportation.xlsx\", sheet_name = 'Example', header = None, skiprows = m+1, nrows = 1, usecols = 'B:F').values.tolist()[0]\n",
    "\n",
    "### Adjust the parameters in order to have a balanced problem that can be solved with TransportationModel()\n",
    "\n",
    "\n",
    "# Adjust the parameters for a balanced problem\n",
    "total_supply = sum(a)\n",
    "total_demand = sum(b)\n",
    "\n",
    "if total_supply > total_demand:\n",
    "    # Add a dummy demand node\n",
    "    n += 1  # Increase the number of customers\n",
    "    b.append(total_supply - total_demand)  # Set the demand of the dummy node\n",
    "    for row in c:\n",
    "        row.append(0)  # Add zero cost to dummy node\n",
    "elif total_supply < total_demand:\n",
    "    # Add a dummy supply node\n",
    "    m += 1  # Increase the number of depots\n",
    "    a.append(total_demand - total_supply)  # Set the supply of the dummy node\n",
    "    c.append([0] * n)  # Add zero cost from dummy depot\n",
    "c = np.array(c)\n",
    "# Print the adjusted cost matrix, supply, and demand\n",
    "print(\"Adjusted Cost matrix:\")\n",
    "print(c)\n",
    "print(\"Adjusted Supply:\", a)\n",
    "print(\"Adjusted Demand:\", b)\n",
    "\n",
    "# Solve the adjusted problem\n",
    "TP = TransportationModel(a, b, c)\n",
    "TP.Params.LogToConsole = 0\n",
    "print(f'Model has {TP.NumVars} variables, {TP.NumConstrs} constraints and {TP.NumNZs} nonzeros\\n')\n",
    "\n",
    "TP.optimize()\n",
    "\n",
    "# Display the solution\n",
    "for var in TP.getVars():\n",
    "    if abs(var.x) > 1e-6:  # only printing non-zeros\n",
    "        print('{0} = {1:6.2f}'.format(var.VarName[:18], var.x))"
   ]
  },
  {
   "cell_type": "markdown",
   "id": "Yvkz-0cqInBH",
   "metadata": {
    "id": "Yvkz-0cqInBH"
   },
   "source": [
    "## <font color=red>(Part C) Team selection for the 4x100m Medley </font>\n",
    "\n",
    "### Problem W2.2\n",
    "In the same Excel file \"Transportation.xlsx\", the Personal Records of Dutch swimmers who took part in the European Championships of 2022 are provided. Your task is to form teams for the 4x100m relay (Women, Men and Mixed) based on their PR's, i.e. four individuals are selected such that the total PR-time is minimal.\n",
    "\n",
    "In the cell below, the Women's team is already determined. Adjust the code in order to find the Men's team and the Mixed team. The latter should consist of two male and two female swimmers (check if you have found the winning team).\n",
    "\n",
    "Note: the problems could be solved by hand rather easily, but that would not be very interesting. Besides that, in reality also reserve-swimmers can be selected for the qualifying heats and the schedule of the championship should be taken in consideration in order to avoid overloading certain swimmers."
   ]
  },
  {
   "cell_type": "code",
   "execution_count": 8,
   "id": "PxJ-0VvtInBH",
   "metadata": {
    "colab": {
     "base_uri": "https://localhost:8080/"
    },
    "id": "PxJ-0VvtInBH",
    "outputId": "bf57be18-6676-428b-dec1-181db3e1a4a3"
   },
   "outputs": [
    {
     "name": "stdout",
     "output_type": "stream",
     "text": [
      "PB's on the four events\n",
      "[[63.91 74.86 54.6  69.96  0.  ]\n",
      " [58.65 90.89 54.48 64.26  0.  ]\n",
      " [59.62 81.14 55.99 58.1   0.  ]\n",
      " [65.56 89.02 54.57 58.71  0.  ]\n",
      " [63.25 72.05 53.24 59.3   0.  ]\n",
      " [79.77 66.92 68.3  74.43  0.  ]\n",
      " [75.37 69.75 54.05 59.12  0.  ]\n",
      " [69.76 69.19 58.29 62.64  0.  ]\n",
      " [70.44 83.23 55.47 64.38  0.  ]\n",
      " [64.7  76.5  55.69 62.21  0.  ]\n",
      " [68.24 83.03 55.35 64.75  0.  ]\n",
      " [65.94 89.48 55.83 65.19  0.  ]\n",
      " [61.35 74.5  58.33 60.44  0.  ]]\n",
      "Supply: [1, 1, 1, 1, 1, 1, 1, 1, 1, 1, 1, 1, 1]   Demand [1, 1, 1, 1, 9]\n",
      "Model has 65 variables, 18 constraints and 130 nonzeros\n",
      "\n",
      "Swimmer  2   on event 1   PR = 58.65\n",
      "Swimmer  6   on event 2   PR = 66.92\n",
      "Swimmer  5   on event 3   PR = 53.24\n",
      "Swimmer  3   on event 4   PR = 58.1\n"
     ]
    }
   ],
   "source": [
    "import pandas as pd\n",
    "from datetime import datetime\n",
    "\n",
    "m = 13                # Number of Women in TeamNL\n",
    "n = 5                 # The 5-th event is being a supporter\n",
    "times = pd.read_excel(\"Transportation.xlsx\", sheet_name = 'Medley', header = None, skiprows = 4, nrows = m, usecols = 'B:E').to_numpy()\n",
    "\n",
    "I = range(m)\n",
    "J = range(4)\n",
    "\n",
    "a = [1 for i in range(m)]\n",
    "b = [1 for i in range(n)]\n",
    "b[n-1] = m - n + 1\n",
    "c = [[ (60*times[i][j].minute + times[i][j].second + times[i][j].microsecond/1e6) for j in range(n-1)] for i in range(m)]\n",
    "[c[i].append(0) for i in range(m)]\n",
    "c = np.array(c)\n",
    "\n",
    "print(\"PB's on the four events\")\n",
    "print(c)\n",
    "print(\"Supply:\", a, \"  Demand\", b)\n",
    "\n",
    "TP = TransportationModel(a, b, c)\n",
    "TP.Params.LogToConsole = 0\n",
    "print(f'Model has {TP.NumVars} variables, {TP.NumConstrs} constraints and {TP.NumNZs} nonzeros\\n')\n",
    "\n",
    "TP.optimize()\n",
    "\n",
    "for j in J:\n",
    "    for i in I:\n",
    "        xij = TP.getVarByName(f\"Flow[{i},{j}]\")\n",
    "        if xij.x == 1:\n",
    "            print(\"Swimmer {:2}   on event {}   PR = {}\".format(i+1, j+1, c[i,j]))\n",
    "\n",
    "# for var in TP.getVars():\n",
    "#    if abs(var.x) > 1e-6: # only printing non-zeros\n",
    "#        print('{0} = {1:6.2f}'.format(var.VarName[:18], var.x))"
   ]
  },
  {
   "cell_type": "code",
   "execution_count": 9,
   "id": "uoprk-hWgPi7",
   "metadata": {
    "colab": {
     "base_uri": "https://localhost:8080/"
    },
    "id": "uoprk-hWgPi7",
    "outputId": "58c098e0-797a-48d2-a2f4-0d74ca14ad59"
   },
   "outputs": [
    {
     "name": "stdout",
     "output_type": "stream",
     "text": [
      "PB's on the four events\n",
      "[[ 70.45  57.8   53.74  54.74   0.  ]\n",
      " [ 68.65  83.2   49.42  55.02   0.  ]\n",
      " [ 56.95  87.53  48.99  55.71   0.  ]\n",
      " [ 58.16  63.4   48.53  60.46   0.  ]\n",
      " [ 65.92  66.33  50.48  53.16   0.  ]\n",
      " [ 55.48  74.3   48.86  51.41   0.  ]\n",
      " [ 56.88 115.    49.67  61.39   0.  ]\n",
      " [ 59.44 102.84  49.68  55.25   0.  ]\n",
      " [ 64.67  70.7   49.78  53.68   0.  ]\n",
      " [ 59.66  66.92  53.93  55.27   0.  ]]\n",
      "Supply: [1, 1, 1, 1, 1, 1, 1, 1, 1, 1]   Demand [1, 1, 1, 1, 6]\n",
      "Model has 50 variables, 15 constraints and 100 nonzeros\n",
      "\n",
      "Swimmer  7   on event 1   PR = 56.88\n",
      "Swimmer  1   on event 2   PR = 57.8\n",
      "Swimmer  4   on event 3   PR = 48.53\n",
      "Swimmer  6   on event 4   PR = 51.41\n"
     ]
    }
   ],
   "source": [
    "#Solve for men:\n",
    "\n",
    "m = 10                # Number of Men in TeamNL\n",
    "n = 5                 # The 5-th event is being a supporter\n",
    "times = pd.read_excel(\"Transportation.xlsx\", sheet_name = 'Medley', header = None, skiprows = 20, nrows = m, usecols = 'B:E').to_numpy()\n",
    "\n",
    "I = range(m)\n",
    "J = range(4)\n",
    "\n",
    "a = [1 for i in range(m)]\n",
    "b = [1 for i in range(n)]\n",
    "b[n-1] = m - n + 1\n",
    "c = [[ (60*times[i][j].minute + times[i][j].second + times[i][j].microsecond/1e6) for j in range(n-1)] for i in range(m)]\n",
    "[c[i].append(0) for i in range(m)]\n",
    "c = np.array(c)\n",
    "\n",
    "print(\"PB's on the four events\")\n",
    "print(c)\n",
    "print(\"Supply:\", a, \"  Demand\", b)\n",
    "\n",
    "TP = TransportationModel(a, b, c)\n",
    "TP.Params.LogToConsole = 0\n",
    "print(f'Model has {TP.NumVars} variables, {TP.NumConstrs} constraints and {TP.NumNZs} nonzeros\\n')\n",
    "\n",
    "TP.optimize()\n",
    "\n",
    "for j in J:\n",
    "    for i in I:\n",
    "        xij = TP.getVarByName(f\"Flow[{i},{j}]\")\n",
    "        if xij.x == 1:\n",
    "            print(\"Swimmer {:2}   on event {}   PR = {}\".format(i+1, j+1, c[i,j]))\n",
    "\n",
    "# for var in TP.getVars():\n",
    "#    if abs(var.x) > 1e-6: # only printing non-zeros\n",
    "#        print('{0} = {1:6.2f}'.format(var.VarName[:18], var.x))"
   ]
  },
  {
   "cell_type": "code",
   "execution_count": 10,
   "id": "2ppgw7VWzfLE",
   "metadata": {
    "colab": {
     "base_uri": "https://localhost:8080/"
    },
    "id": "2ppgw7VWzfLE",
    "outputId": "3803b6e9-4015-407a-ef43-71ddb6c35190"
   },
   "outputs": [
    {
     "name": "stdout",
     "output_type": "stream",
     "text": [
      "Gurobi Optimizer version 11.0.0 build v11.0.0rc2 (win64 - Windows 10.0 (19045.2))\n",
      "\n",
      "CPU model: Intel(R) Core(TM) i7-8550U CPU @ 1.80GHz, instruction set [SSE2|AVX|AVX2]\n",
      "Thread count: 4 physical cores, 8 logical processors, using up to 8 threads\n",
      "\n",
      "Optimize a model with 29 rows, 115 columns and 276 nonzeros\n",
      "Model fingerprint: 0xea707024\n",
      "Variable types: 0 continuous, 115 integer (115 binary)\n",
      "Coefficient statistics:\n",
      "  Matrix range     [1e+00, 1e+00]\n",
      "  Objective range  [5e+01, 1e+02]\n",
      "  Bounds range     [1e+00, 1e+00]\n",
      "  RHS range        [1e+00, 2e+00]\n",
      "Found heuristic solution: objective 267.4600000\n",
      "Presolve removed 0 rows and 23 columns\n",
      "Presolve time: 0.01s\n",
      "Presolved: 29 rows, 92 columns, 276 nonzeros\n",
      "Variable types: 0 continuous, 92 integer (92 binary)\n",
      "Found heuristic solution: objective 232.1400000\n",
      "\n",
      "Root relaxation: objective 2.211000e+02, 6 iterations, 0.00 seconds (0.00 work units)\n",
      "\n",
      "    Nodes    |    Current Node    |     Objective Bounds      |     Work\n",
      " Expl Unexpl |  Obj  Depth IntInf | Incumbent    BestBd   Gap | It/Node Time\n",
      "\n",
      "*    0     0               0     221.1000000  221.10000  0.00%     -    0s\n",
      "\n",
      "Explored 1 nodes (6 simplex iterations) in 0.05 seconds (0.00 work units)\n",
      "Thread count was 8 (of 8 available processors)\n",
      "\n",
      "Solution count 3: 221.1 232.14 267.46 \n",
      "\n",
      "Optimal solution found (tolerance 1.00e-04)\n",
      "Best objective 2.211000000000e+02, best bound 2.211000000000e+02, gap 0.0000%\n",
      "Woman Swimmer 2 on event 1 PR = 58.65\n",
      "Man Swimmer 1 on event 2 PR = 57.8\n",
      "Woman Swimmer 5 on event 3 PR = 53.24\n",
      "Man Swimmer 6 on event 4 PR = 51.41\n"
     ]
    }
   ],
   "source": [
    "# Load data for women and men\n",
    "m_women = 13   # Number of Women\n",
    "m_men = 10     # Number of Men\n",
    "n = 5          # The 5-th event is being a supporter\n",
    "\n",
    "times_women = pd.read_excel(\"Transportation.xlsx\", sheet_name='Medley', header=None, skiprows=4, nrows=m_women, usecols='B:E').to_numpy()\n",
    "times_men = pd.read_excel(\"Transportation.xlsx\", sheet_name='Medley', header=None, skiprows=20, nrows=m_men, usecols='B:E').to_numpy()\n",
    "\n",
    "# Combine data\n",
    "times_combined = np.vstack((times_women, times_men))\n",
    "m_combined = m_women + m_men\n",
    "\n",
    "I = range(m_combined)\n",
    "J = range(4)\n",
    "\n",
    "# Convert times to seconds and append zeros for supporters\n",
    "c = [[(60*times_combined[i][j].minute + times_combined[i][j].second + times_combined[i][j].microsecond/1e6) for j in range(n-1)] for i in range(m_combined)]\n",
    "[c[i].append(0) for i in range(m_combined)]\n",
    "c = np.array(c)\n",
    "\n",
    "# Create the model\n",
    "model = Model()\n",
    "\n",
    "# Variables: x[i, j] = 1 if swimmer i is selected for event j\n",
    "x = model.addVars(m_combined, n, vtype=GRB.BINARY)\n",
    "\n",
    "# Objective: Minimize total PR time\n",
    "model.setObjective(sum(x[i, j] * c[i, j] for i in I for j in J), GRB.MINIMIZE)\n",
    "\n",
    "# Constraints\n",
    "# Each event has exactly one swimmer\n",
    "for j in J:\n",
    "    model.addConstr(sum(x[i, j] for i in I) == 1)\n",
    "\n",
    "# Each swimmer is selected for at most one event\n",
    "for i in I:\n",
    "    model.addConstr(sum(x[i, j] for j in J) <= 1)\n",
    "\n",
    "# Modify the constraints for gender balance\n",
    "# Exactly two females (first 13 swimmers) across all events\n",
    "model.addConstr(sum(x[i, j] for i in range(m_women) for j in J) == 2, \"FemaleSwimmers\")\n",
    "\n",
    "# Exactly two males (next 10 swimmers) across all events\n",
    "model.addConstr(sum(x[i, j] for i in range(m_women, m_combined) for j in J) == 2, \"MaleSwimmers\")\n",
    "\n",
    "# Optimize the model\n",
    "model.optimize()\n",
    "\n",
    "# Print selected swimmers, their gender (Women/Men), and their PRs\n",
    "for j in J:\n",
    "    for i in I:\n",
    "        if x[i, j].x > 0.5:  # If swimmer i is selected for event j\n",
    "            gender = \"Woman\" if i < m_women else \"Man\"\n",
    "            swimmer_no = i + 1 if gender == \"Woman\" else i + 1 - m_women\n",
    "            print(f\"{gender} Swimmer {swimmer_no} on event {j+1} PR = {c[i, j]}\")\n"
   ]
  },
  {
   "cell_type": "code",
   "execution_count": 11,
   "id": "jpi4u4dP2AJd",
   "metadata": {
    "colab": {
     "base_uri": "https://localhost:8080/",
     "height": 249
    },
    "id": "jpi4u4dP2AJd",
    "outputId": "88b2d30a-226a-458a-aadd-85ecead8433a"
   },
   "outputs": [
    {
     "name": "stdout",
     "output_type": "stream",
     "text": [
      "PB's on the four events\n",
      "------------------  -----  ------  -----  -----  -\n",
      "Valerie van Roon    63.91   74.86  54.6   69.96  0\n",
      "Kira Toussaint      58.65   90.89  54.48  64.26  0\n",
      "Maaike de Waard     59.62   81.14  55.99  58.1   0\n",
      "Tessa Giele         65.56   89.02  54.57  58.71  0\n",
      "Marrit Steenbergen  63.25   72.05  53.24  59.3   0\n",
      "Tes Schouten        79.77   66.92  68.3   74.43  0\n",
      "Kim Busch           75.37   69.75  54.05  59.12  0\n",
      "Anne Palmans        69.76   69.19  58.29  62.64  0\n",
      "Sam van Nunen       70.44   83.23  55.47  64.38  0\n",
      "Silke Holkenberg    64.7    76.5   55.69  62.21  0\n",
      "Imani de Jong       68.24   83.03  55.35  64.75  0\n",
      "Janna van Kooten    65.94   89.48  55.83  65.19  0\n",
      "Lotte Hosper        61.35   74.5   58.33  60.44  0\n",
      "Arno Kamminga       70.45   57.8   53.74  54.74  0\n",
      "Thom de Boer        68.65   83.2   49.42  55.02  0\n",
      "Jesse Puts          56.95   87.53  48.99  55.71  0\n",
      "Stan Pijnenburg     58.16   63.4   48.53  60.46  0\n",
      "Thomas Verhoeven    65.92   66.33  50.48  53.16  0\n",
      "Nyls Korstanje      55.48   74.3   48.86  51.41  0\n",
      "Kenzo Simons        56.88  115     49.67  61.39  0\n",
      "Luc Kroon           59.44  102.84  49.68  55.25  0\n",
      "Sean Niewold        64.67   70.7   49.78  53.68  0\n",
      "Thomas Jansen       59.66   66.92  53.93  55.27  0\n",
      "------------------  -----  ------  -----  -----  -\n",
      "Supply: [1, 1, 1, 1, 1, 1, 1, 1, 1, 1, 1, 1, 1, 1, 1, 1, 1, 1, 1, 1, 1, 1, 1] \n",
      "Demand: [1, 1, 1, 1, 19]\n",
      "Model has 115 variables, 28 constraints and 230 nonzeros\n",
      "\n",
      "Swimmer  2, Kira Toussaint         on event 1,   PR = 58.65\n",
      "Swimmer 14, Arno Kamminga          on event 2,   PR = 57.8\n",
      "Swimmer  5, Marrit Steenbergen     on event 3,   PR = 53.24\n",
      "Swimmer 19, Nyls Korstanje         on event 4,   PR = 51.41\n"
     ]
    }
   ],
   "source": [
    "from tabulate import tabulate\n",
    "\n",
    "\n",
    "def to_seconds(t):\n",
    "    return 60*t.minute + t.second + t.microsecond/1e6\n",
    "\n",
    "\n",
    "kwargs = {'io': 'Transportation.xlsx', 'sheet_name': 'Medley', 'index_col': 0, 'header': None, 'usecols': 'A:E'}\n",
    "times = pd.concat([\n",
    "    pd.read_excel(skiprows=4, nrows=13, **kwargs),\n",
    "    pd.read_excel(skiprows=20, nrows=10, **kwargs)\n",
    "]).applymap(to_seconds).assign(extra=0)\n",
    "\n",
    "m = 23                # Number of Participants in TeamNL\n",
    "n = 5                 # The 5-th event is being a supporter\n",
    "\n",
    "I = range(m)\n",
    "J = range(4)\n",
    "\n",
    "a = [1 for i in range(m)]\n",
    "b = [1 for i in range(n)]\n",
    "b[n-1] = m - n + 1\n",
    "c = times.values\n",
    "\n",
    "print(\"PB's on the four events\")\n",
    "print(tabulate(times))\n",
    "print(\"Supply:\", a, \"\\nDemand:\", b)\n",
    "\n",
    "TP = TransportationModel(a, b, c)\n",
    "TP.Params.LogToConsole = 0\n",
    "print(f'Model has {TP.NumVars} variables, {TP.NumConstrs} constraints and {TP.NumNZs} nonzeros\\n')\n",
    "\n",
    "TP.addConstr(quicksum(TP.getVarByName(f\"Flow[{i},{j}]\") for i in range(13) for j in range(4)) == 2)\n",
    "TP.optimize()\n",
    "\n",
    "for j in J:\n",
    "    for i in I:\n",
    "        xij = TP.getVarByName(f\"Flow[{i},{j}]\")\n",
    "        if xij.x == 1:\n",
    "            print(\"Swimmer {:2}, {:20}   on event {},   PR = {}\".format(i + 1, times.index[i], j+1, c[i,j]))\n"
   ]
  },
  {
   "cell_type": "markdown",
   "id": "M0qx5os7InBI",
   "metadata": {
    "id": "M0qx5os7InBI"
   },
   "source": [
    "## <font color=red>(Part D) Add your own models</font>\n",
    "\n",
    "### Now, solve your models for problem W2.3 ... W2.5"
   ]
  },
  {
   "cell_type": "markdown",
   "id": "Aw6MC_BraunK",
   "metadata": {
    "id": "Aw6MC_BraunK"
   },
   "source": [
    "# W2.3 - Model Formulation\n",
    "### The Primal Model\n",
    "\\begin{aligned}\n",
    "&\\max\\quad &z=2y_1+3y_2-3y_3+y_4\\\\\n",
    "&s.t.\\quad&2y_1-y_3+3y_4+y_5&\\leq8\\\\\n",
    "&&y_1+y_2-2y_3+y_4&=5\\\\\n",
    "&&5y_2+4y_4-y_5&\\geq10\\\\\n",
    "&&y_1&\\geq1\\\\\n",
    "&&y_1\\inℝ,\\quad y_2,y_4,y_5\\geq0,\\quad y_3\\leq0\\\\\n",
    "\\end{aligned}\n",
    "**Part a**  \n",
    "Before applying simplex step, we transform P into the standard equation form.  \n",
    "Take $y_3'=-y_3$,  \n",
    "\\begin{aligned}\n",
    "&\\max\\quad &z=2y_1+3y_2+3y'_3+y_4-Mu_1-Mu_2-Mu_3\\\\\n",
    "&s.t.\\quad&2y_1+y'_3+3y_4+y_5+y_6&=8\\\\\n",
    "&&y_1+y_2+2y'_3+y_4+u_1&=5\\\\\n",
    "&&5y_2+4y_4-y_5-y_7+u_2&=10\\\\\n",
    "&&y_1-y_8+u_3&=1\\\\\n",
    "&&y_1\\inℝ,\\quad y_2,y'_3,y_4,y_5,y_6,y_7,y_8,u_1,u_2,u_3\\geq0\\\\\n",
    "\\end{aligned}\n",
    "Next, rewrite the objective:  \n",
    "\\begin{aligned}\n",
    "z=(2+6M)y_1+(3+6M)y_2+(3+2M)y'_3+(1+5M)y_4-My_5-My_7-My_8-16M\n",
    "\\end{aligned}\n",
    "The simplex tableau,  \n",
    "\n",
    "\\begin{array}{|l|l|l|l|l|l|l|l|l|l|l|l|l|l|}\n",
    "\\hline\n",
    "                                &           & y_1 & y_2 & y'_3 & y_4 & y_5 & y_6 & y_7 & y_8 & u_1 & u_2 & u_3 & \\text{sol} &                            \\\\\n",
    "\\hline\n",
    "c_{BI} & y_{BI} & 2+6M & 3+6M & 3+2M  & 1+5M & -M   & 0    & -M   & -M   & 0    & 0    & 0    & 16M & \\text{Ratio}   \\\\\n",
    "\\hline\n",
    "0         & u_1      & 0    & 2    & 1     & 3    & 1    & 1    & 0    & 0    & 0    & 0    & 0    & 8   &                            \\\\\n",
    "0         & u_2      & 1    & 1    & 2     & 1    & 0    & 0    & 0    & 0    & 1    & 0    & 0    & 5   &                            \\\\\n",
    "0         & u_3      & 0    & 5    & 0     & 4    & -1   & 0    & -1   & 0    & 0    & 1    & 0    & 10  &                            \\\\\n",
    "0         & y_6      & 1    & 0    & 0     & 0    & 0    & 0    & 0    & -1   & 0    & 0    & 1    & 1   &                            \\\\\n",
    "\\hline\n",
    "\\end{array}\n",
    "**Part b**  \n",
    "We write $y_3$ in the form of $y_1$, $y_2$, $y_4$,  \n",
    "\\begin{aligned}\n",
    "y_3=\\frac{1}{2}(y_1+y_2+y_4-5)\n",
    "\\end{aligned}\n",
    "\\begin{aligned}\n",
    "&\\max\\quad &z=0.5y_1+1.5y_2-0.5y_4+7.5\\\\\n",
    "&s.t.&-0.5y_1+1.5y_2+2.5y_4+y_5\\leq5.5\\\\\n",
    "&&5y_2+4y_4-y_5\\geq10\\\\\n",
    "&&y_1\\geq1\\\\\n",
    "&&\\frac{1}{2}(y_1+y_2+y_4-5)\\leq0\\\\\n",
    "&&y_1\\in ℝ,y_2,y_4,y_5\\geq0\n",
    "\\end{aligned}\n",
    "The dual model\n",
    "\\begin{aligned}\n",
    "&\\min\\quad&z_D=8x_1+5x_2+10x_3+x_4\\\\\n",
    "&s.t.&x_2+x_4=2\\\\\n",
    "&&2x_1+x_2+5x_3\\geq3\\\\\n",
    "&&-x_1-2x_2\\leq-3\\\\\n",
    "&&3x_1+x_2+4x_3\\geq1\\\\\n",
    "&&x_1-x_3\\geq0\\\\\n",
    "&&x_1\\geq0,x_2\\inℝ,x_3\\leq0,x_4\\leq0\n",
    "\\end{aligned}\n",
    "We noticed that the last constraint is always true, hence we conclude that $y_5$ in the primal model is dominated by other variables.  \n"
   ]
  },
  {
   "cell_type": "code",
   "execution_count": 12,
   "id": "GnXmr9SsR4e2",
   "metadata": {
    "colab": {
     "base_uri": "https://localhost:8080/"
    },
    "id": "GnXmr9SsR4e2",
    "outputId": "8f9678ca-40df-4826-86d5-b9ff8fd019b8"
   },
   "outputs": [
    {
     "name": "stdout",
     "output_type": "stream",
     "text": [
      "Gurobi Optimizer version 11.0.0 build v11.0.0rc2 (win64 - Windows 10.0 (19045.2))\n",
      "\n",
      "CPU model: Intel(R) Core(TM) i7-8550U CPU @ 1.80GHz, instruction set [SSE2|AVX|AVX2]\n",
      "Thread count: 4 physical cores, 8 logical processors, using up to 8 threads\n",
      "\n",
      "Optimize a model with 3 rows, 5 columns and 11 nonzeros\n",
      "Model fingerprint: 0x3c4cddfe\n",
      "Coefficient statistics:\n",
      "  Matrix range     [1e+00, 5e+00]\n",
      "  Objective range  [1e+00, 3e+00]\n",
      "  Bounds range     [1e+00, 1e+00]\n",
      "  RHS range        [5e+00, 1e+01]\n",
      "Presolve removed 3 rows and 5 columns\n",
      "Presolve time: 0.01s\n",
      "Presolve: All rows and columns removed\n",
      "Iteration    Objective       Primal Inf.    Dual Inf.      Time\n",
      "       0    1.4000000e+01   0.000000e+00   0.000000e+00      0s\n",
      "\n",
      "Solved in 0 iterations and 0.01 seconds (0.00 work units)\n",
      "Optimal objective  1.400000000e+01\n",
      "Optimal solution:\n",
      "y1: 1.0\n",
      "y2: 4.0\n",
      "y3: 0.0\n",
      "y4: 0.0\n",
      "y5: 0.0\n",
      "Optimal objective value: 14.0\n"
     ]
    }
   ],
   "source": [
    "# Code for solving W2.3\n",
    "# Without rewriting\n",
    "from gurobipy import *\n",
    "\n",
    "# Create a new model\n",
    "model = Model(\"lp_model\")\n",
    "\n",
    "# Create variables\n",
    "y1 = model.addVar(lb=1, vtype=GRB.CONTINUOUS, name=\"y1\")\n",
    "y2 = model.addVar(lb=0, vtype=GRB.CONTINUOUS, name=\"y2\")\n",
    "y3 = model.addVar(ub=0, vtype=GRB.CONTINUOUS, name=\"y3\")\n",
    "y4 = model.addVar(lb=0, vtype=GRB.CONTINUOUS, name=\"y4\")\n",
    "y5 = model.addVar(lb=0, vtype=GRB.CONTINUOUS, name=\"y5\")\n",
    "\n",
    "# Set objective function\n",
    "model.setObjective(2*y1 + 3*y2 - 3*y3 + y4, GRB.MAXIMIZE)\n",
    "\n",
    "# Add constraints\n",
    "model.addConstr(2*y1 - y3 + 3*y4 + y5 <= 8, \"c1\")\n",
    "model.addConstr(y1 + y2 - 2*y3 + y4 == 5, \"c2\")\n",
    "model.addConstr(5*y2 + 4*y4 - y5 >= 10, \"c3\")\n",
    "\n",
    "# Optimize the model\n",
    "model.optimize()\n",
    "\n",
    "# Print the results\n",
    "print(\"Optimal solution:\")\n",
    "for v in model.getVars():\n",
    "    print(f\"{v.varName}: {v.x}\")\n",
    "\n",
    "print(f\"Optimal objective value: {model.objVal}\")\n"
   ]
  },
  {
   "cell_type": "code",
   "execution_count": 13,
   "id": "tJU_DL_oxtH6",
   "metadata": {
    "colab": {
     "base_uri": "https://localhost:8080/"
    },
    "id": "tJU_DL_oxtH6",
    "outputId": "a0026b7a-0682-4bca-bcdd-023074b6e40c"
   },
   "outputs": [
    {
     "name": "stdout",
     "output_type": "stream",
     "text": [
      "Gurobi Optimizer version 11.0.0 build v11.0.0rc2 (win64 - Windows 10.0 (19045.2))\n",
      "\n",
      "CPU model: Intel(R) Core(TM) i7-8550U CPU @ 1.80GHz, instruction set [SSE2|AVX|AVX2]\n",
      "Thread count: 4 physical cores, 8 logical processors, using up to 8 threads\n",
      "\n",
      "Optimize a model with 4 rows, 4 columns and 11 nonzeros\n",
      "Model fingerprint: 0x9587e215\n",
      "Coefficient statistics:\n",
      "  Matrix range     [5e-01, 5e+00]\n",
      "  Objective range  [5e-01, 2e+00]\n",
      "  Bounds range     [1e+00, 1e+00]\n",
      "  RHS range        [1e+00, 1e+01]\n",
      "Presolve removed 1 rows and 1 columns\n",
      "Presolve time: 0.01s\n",
      "Presolved: 3 rows, 3 columns, 8 nonzeros\n",
      "\n",
      "Iteration    Objective       Primal Inf.    Dual Inf.      Time\n",
      "       0    1.4000000e+01   0.000000e+00   0.000000e+00      0s\n",
      "       0    1.4000000e+01   0.000000e+00   0.000000e+00      0s\n",
      "\n",
      "Solved in 0 iterations and 0.01 seconds (0.00 work units)\n",
      "Optimal objective  1.400000000e+01\n",
      "Optimal solution:\n",
      "y1: 1.0\n",
      "y2: 4.0\n",
      "y4: 0.0\n",
      "y5: 0.0\n",
      "Optimal objective value: 14.0\n"
     ]
    }
   ],
   "source": [
    "# Code for solving W2.3\n",
    "# Rewriting y3\n",
    "from gurobipy import *\n",
    "\n",
    "# Create a new model\n",
    "model = Model(\"lp_model\")\n",
    "\n",
    "# Create variables\n",
    "y1 = model.addVar(lb=1, vtype=GRB.CONTINUOUS, name=\"y1\")\n",
    "y2 = model.addVar(lb=0, vtype=GRB.CONTINUOUS, name=\"y2\")\n",
    "y4 = model.addVar(lb=0, vtype=GRB.CONTINUOUS, name=\"y4\")\n",
    "y5 = model.addVar(lb=0, vtype=GRB.CONTINUOUS, name=\"y5\")\n",
    "\n",
    "# Set objective function\n",
    "model.setObjective(0.5*y1+1.5*y2-0.5*y4+7.5, GRB.MAXIMIZE)\n",
    "\n",
    "# Add constraints\n",
    "model.addConstr(-0.5*y1 + 1.5*y2 + 2.5*y4 + y5 <= 5.5, \"c1\")\n",
    "model.addConstr(5*y2 + 4*y4 - y5 >= 10, \"c2\")\n",
    "model.addConstr(y1 >= 1, \"c3\")\n",
    "model.addConstr(0.5*(y1 + y2 + y4 - 5) <= 0, \"c4\")\n",
    "\n",
    "# Optimize the model\n",
    "model.optimize()\n",
    "\n",
    "# Print the results\n",
    "print(\"Optimal solution:\")\n",
    "for v in model.getVars():\n",
    "    print(f\"{v.varName}: {v.x}\")\n",
    "\n",
    "print(f\"Optimal objective value: {model.objVal}\")\n"
   ]
  },
  {
   "cell_type": "markdown",
   "id": "N9RcvLVkLRB3",
   "metadata": {
    "id": "N9RcvLVkLRB3"
   },
   "source": [
    "## Conclusion:\n",
    "The presolve analysis has revealed that it does not result in a different solution, and furthermore, it successfully reduces the number of decision variables without altering the optimal outcome."
   ]
  },
  {
   "cell_type": "markdown",
   "id": "qq2pE4MnT57W",
   "metadata": {
    "id": "qq2pE4MnT57W"
   },
   "source": [
    "# W2.4 - Model Formulation\n",
    "## The Primal Model\n",
    "### $\\mathrm{I.}$ Decision Variables\n",
    "Let $x_1$,$x_2$ and $x_3$ be the number of four-room houses, standard six-room houses, and luxurious six-bedroom houses to be built, respectively.\n",
    "### $\\mathrm{II.}$ Objective Function\n",
    "\\begin{aligned}\n",
    "&\\max\\quad 60000x_1 + 100000x_2 + 120000x_3\n",
    "\\end{aligned}\n",
    "### $\\mathrm{III.}$  Constraints\n",
    "\\begin{aligned}\n",
    "\\begin{cases}\n",
    "x_1+x_2+x_3\\geq60\\\\\n",
    "4x_1+6x_2+6x_3\\geq270\\\\\n",
    "160x_1+180x_2+240x_3\\leq12900\\\\\n",
    "120000x_1+200000x_2+240000x_3\\leq12000000\\\\\n",
    "x_1, x_2,x_3 \\geq 0\\\\\n",
    "\\end{cases}\n",
    "\\end{aligned}\n",
    "## The Dual Model\n",
    "### $\\mathrm{I.}$ Objective Function\n",
    "\\begin{aligned}\n",
    "&\\min\\quad 60y_1+270y_2+12900y_3+12000000y_4\n",
    "\\end{aligned}\n",
    "### $\\mathrm{II.}$  Constraints\n",
    "\\begin{aligned}\n",
    "\\begin{cases}\n",
    "y_1+4y_2+160y_3+120000y_4\\geq60000\\\\\n",
    "y_1+6y_2+180y_3+200000y_4\\geq100000\\\\\n",
    "y_1+6y_2+240y_3+240000y_4\\geq120000\\\\\n",
    "y_1,y_2\\leq0, y_2,y_3 \\geq 0\\\\\n",
    "\\end{cases}\n",
    "\\end{aligned}\n",
    "## The Model with New Constraint\n",
    "### $\\mathrm{I.}$ Objective Function\n",
    "\\begin{aligned}\n",
    "&\\max\\quad 60000x_1 + 100000x_2 + 120000x_3\n",
    "\\end{aligned}\n",
    "### $\\mathrm{II.}$  Constraints\n",
    "\\begin{aligned}\n",
    "\\begin{cases}\n",
    "x_1+x_2+x_3\\geq60\\\\\n",
    "4x_1+6x_2+6x_3\\geq270\\\\\n",
    "160x_1+180x_2+240x_3\\leq12900\\\\\n",
    "120000x_1+200000x_2+240000x_3\\leq12000000\\\\\n",
    "0.5x_1+0.5x_2-0.5x_3\\geq0\\\\\n",
    "x_1, x_2,x_3 \\geq 0\\\\\n",
    "\\end{cases}\n",
    "\\end{aligned}\n"
   ]
  },
  {
   "cell_type": "code",
   "execution_count": 14,
   "id": "5uJ-qRaEJL9d",
   "metadata": {
    "colab": {
     "base_uri": "https://localhost:8080/"
    },
    "id": "5uJ-qRaEJL9d",
    "outputId": "14b423e8-09f4-49fb-e0db-87c5359b67aa"
   },
   "outputs": [
    {
     "name": "stdout",
     "output_type": "stream",
     "text": [
      "Requirement already satisfied: gurobipy in d:\\uva\\everythingaboutpython\\lib\\site-packages (11.0.0)\n"
     ]
    }
   ],
   "source": [
    "! pip install gurobipy"
   ]
  },
  {
   "cell_type": "code",
   "execution_count": 15,
   "id": "aKMmjNuG5OAi",
   "metadata": {
    "colab": {
     "base_uri": "https://localhost:8080/"
    },
    "id": "aKMmjNuG5OAi",
    "outputId": "0804f3de-d84e-4712-e504-084675b87b82"
   },
   "outputs": [
    {
     "name": "stdout",
     "output_type": "stream",
     "text": [
      "Model: 3 variables, 4 constraints and 12 nonzeros\n",
      "The optimal objective is 1.8e+07 euro\n",
      "{'4-room house': -0.0, 'standard 6-room house': 60.0, 'luxurious 6-room house': -0.0}\n"
     ]
    }
   ],
   "source": [
    "# Code for solving W2.4\n",
    "# Part c)\n",
    "from gurobipy import Model, GRB, quicksum\n",
    "\n",
    "def building():\n",
    "    model = Model(\"building\")\n",
    "    model.Params.LogToConsole = 0\n",
    "\n",
    "    CONSTANTS = {\n",
    "        \"number of houses\": [1,1,1],\n",
    "        \"number of rooms\": [4,6,6],\n",
    "        \"useful area\": [160,180,240],\n",
    "        \"capital\": [120000,200000,240000],\n",
    "        \"profit\":[60000,100000,120000]\n",
    "    }\n",
    "\n",
    "    amounts = model.addVars(3, name=[\"4-room house\",\"standard 6-room house\",\"luxurious 6-room house\"], lb=0,vtype=GRB.INTEGER)\n",
    "\n",
    "    model.setObjective(quicksum(CONSTANTS['profit'][i] * amounts[i] for i in range(3)), GRB.MAXIMIZE)\n",
    "\n",
    "    model.addConstr(quicksum(CONSTANTS['number of houses'][i] * amounts[i] for i in range(3)) >=60, \"number of houses\")\n",
    "    model.addConstr(quicksum(CONSTANTS['number of rooms'][i] * amounts[i] for i in range(3)) >=270, \"number of rooms\")\n",
    "    model.addConstr(quicksum(CONSTANTS['useful area'][i] * amounts[i] for i in range(3)) <=12900, \"useful area\")\n",
    "    model.addConstr(quicksum(CONSTANTS['capital'][i] * amounts[i] for i in range(3)) <=12000000, \"capital\")\n",
    "\n",
    "    model.optimize()\n",
    "\n",
    "    print(f'Model: {model.NumVars} variables, {model.NumConstrs} constraints and {model.NumNZs} nonzeros')\n",
    "    print(f\"The optimal objective is {model.ObjVal*3:g} euro\")\n",
    "    amounts_optimized = {v.varName: v.x for v in model.getVars()}\n",
    "    print(amounts_optimized)\n",
    "\n",
    "\n",
    "building()\n"
   ]
  },
  {
   "cell_type": "code",
   "execution_count": 16,
   "id": "E7gVp4Xe6DK3",
   "metadata": {
    "colab": {
     "base_uri": "https://localhost:8080/"
    },
    "id": "E7gVp4Xe6DK3",
    "outputId": "67b481b0-438b-40e5-c9a8-b53d8e6fb743"
   },
   "outputs": [
    {
     "name": "stdout",
     "output_type": "stream",
     "text": [
      "Model: 3 variables, 5 constraints and 15 nonzeros\n",
      "The optimal objective is 1.8e+07 euros\n",
      "{'4-room house': -0.0, 'standard 6-room house': 60.0, 'luxurious 6-room house': -0.0}\n"
     ]
    }
   ],
   "source": [
    "# Code for solving W2.4, with extra constraint\n",
    "# Part d)\n",
    "\n",
    "from gurobipy import Model, GRB, quicksum\n",
    "\n",
    "def building():\n",
    "    model = Model(\"building\")\n",
    "    model.Params.LogToConsole = 0\n",
    "\n",
    "    CONSTANTS = {\n",
    "        \"number of houses\": [1,1,1],\n",
    "        \"number of rooms\": [4,6,6],\n",
    "        \"useful area\": [160,180,240],\n",
    "        \"capital\": [120000,200000,240000],\n",
    "        \"profit\":[60000,100000,120000],\n",
    "        \"ratio\":[0.5,0.5,-0.5]\n",
    "    }\n",
    "\n",
    "    amounts = model.addVars(3, name=[\"4-room house\",\"standard 6-room house\",\"luxurious 6-room house\"], lb=0,vtype=GRB.INTEGER)\n",
    "\n",
    "    model.setObjective(quicksum(CONSTANTS['profit'][i] * amounts[i] for i in range(3)), GRB.MAXIMIZE)\n",
    "\n",
    "    model.addConstr(quicksum(CONSTANTS['number of houses'][i] * amounts[i] for i in range(3)) >=60, \"number of houses\")\n",
    "    model.addConstr(quicksum(CONSTANTS['number of rooms'][i] * amounts[i] for i in range(3)) >=270, \"number of rooms\")\n",
    "    model.addConstr(quicksum(CONSTANTS['useful area'][i] * amounts[i] for i in range(3)) <=12900, \"useful area\")\n",
    "    model.addConstr(quicksum(CONSTANTS['capital'][i] * amounts[i] for i in range(3)) <=12000000, \"capital\")\n",
    "    model.addConstr(quicksum(CONSTANTS['ratio'][i] * amounts[i] for i in range(3)) >=0, \"ratio\")\n",
    "\n",
    "    model.optimize()\n",
    "\n",
    "    print(f'Model: {model.NumVars} variables, {model.NumConstrs} constraints and {model.NumNZs} nonzeros')\n",
    "    print(f\"The optimal objective is {model.ObjVal*3:g} euros\")\n",
    "    amounts_optimized = {v.varName: v.x for v in model.getVars()}\n",
    "    print(amounts_optimized)\n",
    "\n",
    "    # Print for all constraints the most relevant attributes\n",
    "\n",
    "building()\n"
   ]
  },
  {
   "cell_type": "markdown",
   "id": "e9yq5eyC8uwS",
   "metadata": {
    "id": "e9yq5eyC8uwS"
   },
   "source": [
    "## Conclusion:\n",
    "Upon reevaluation, it has been determined that, even without constraints, the optimal decision for Huibobe is to construct neither the \"four-room house\" nor the \"luxurious six-bedroom house.\" The recommended choice is solely the construction of 60 the \"standard six-room house\"s. This conclusion remains consistent even when additional constraints are considered. The optimal objective in this scenario is to achieve a construction cost of 6,000,000 euros."
   ]
  },
  {
   "cell_type": "markdown",
   "id": "DDHpkTyBSf4G",
   "metadata": {
    "id": "DDHpkTyBSf4G"
   },
   "source": [
    "# W2.5 - Model Formulation\n",
    "\n",
    "### $\\mathrm{I.}$ Decision Variables\n",
    "The decision variables are the start times for each node in the project. Let $t_i$ represent the start time for node $i$, where $i$ ranges from 1 to 9.\n",
    "\n",
    "### $\\mathrm{II.}$ Objective Function\n",
    "Minimize the completion time of the project, represented by $t_9 - t_1$.\n",
    "\n",
    "\\begin{equation}\n",
    "    \\text{min} \\quad t_9 - t_1\n",
    "\\end{equation}\n",
    "\n",
    "### $\\mathrm{III.}$ Constraints\n",
    "The constraints ensure that each task is scheduled after its predecessors have been completed. The edges $(i, j)$ in the graph represent the activities/jobs from A to M that the project needs to finish. Therefore, for each edge, a constraint is added to ensure that $t_j - t_i \\geq c_{i,j}$, where $c_{i,j}$ is the duration of the task.\n",
    "\n",
    "\\begin{equation}\n",
    "    \\text{s.t.} \\quad t_j - t_i \\geq c_{i,j} \\text{ for } (i,\\ j) \\in \\{1,\\ ...,\\ 9\\}\n",
    "\\end{equation}\n",
    "\n",
    "\\begin{align*}\n",
    "    &t_2 - t_1 \\geq 2 \\\\\n",
    "    &t_3 - t_1 \\geq 3 \\\\\n",
    "    &t_8 - t_2 \\geq 4 \\\\\n",
    "    &t_4 - t_3 \\geq 2 \\\\\n",
    "    &t_5 - t_3 \\geq 3 \\\\\n",
    "    &t_4 - t_5 \\geq 4 \\\\\n",
    "    &t_6 - t_5 \\geq 6 \\\\\n",
    "    &t_7 - t_5 \\geq 4 \\\\\n",
    "    &t_6 - t_4 \\geq 3 \\\\\n",
    "    &t_6 - t_8 \\geq 4 \\\\\n",
    "    &t_9 - t_8 \\geq 6 \\\\\n",
    "    &t_9 - t_7 \\geq 2 \\\\\n",
    "    &t_9 - t_6 \\geq 1 \\\\\n",
    "\\end{align*}\n",
    "\n",
    "### $\\mathrm{IV.}$ Matrix Notation\n",
    "The optimization problem can be represented in matrix notation as $Ax \\geq b$:\n",
    "\n",
    "\\begin{equation}\n",
    "    \\begin{bmatrix}\n",
    "    -1 & 1 & 0 & 0 & 0 & 0 & 0 & 0 & 0 \\\\\n",
    "    -1 & 0 & 1 & 0 & 0 & 0 & 0 & 0 & 0 \\\\\n",
    "    0 & -1 & 0 & 0 & 0 & 0 & 0 & 1 & 0 \\\\\n",
    "    0 & 0 & -1 & 1 & 0 & 0 & 0 & 0 & 0 \\\\\n",
    "    0 & 0 & -1 & 0 & 1 & 0 & 0 & 0 & 0 \\\\\n",
    "    0 & 0 & 0 & 1 & -1 & 0 & 0 & 0 & 0 \\\\\n",
    "    0 & 0 & 0 & 0 & -1 & 1 & 0 & 0 & 0 \\\\\n",
    "    0 & 0 & 0 & 0 & -1 & 0 & 1 & 0 & 0 \\\\\n",
    "    0 & 0 & 0 & -1 & 0 & 1 & 0 & 1 & 0 \\\\\n",
    "    0 & 0 & 0 & 0 & 0 & 1 & 0 & -1 & 0 \\\\\n",
    "    0 & 0 & 0 & 0 & 0 & 0 & 0 & -1 & 1 \\\\\n",
    "    0 & 0 & 0 & 0 & 0 & 0 & -1 & 0 & 1 \\\\\n",
    "    0 & 0 & 0 & 0 & 0 & -1 & 0 & 0 & 1 \\\\\n",
    "    \\end{bmatrix}\n",
    "    \\begin{bmatrix}\n",
    "        t_1 \\\\ t_2 \\\\ t_3 \\\\ t_4 \\\\ t_5 \\\\ t_6 \\\\ t_7 \\\\ t_8 \\\\ t_9 \\\\\n",
    "    \\end{bmatrix}\n",
    "    \\geq\n",
    "    \\begin{bmatrix}\n",
    "        2 \\\\ 3 \\\\ 4 \\\\ 2 \\\\ 3 \\\\ 4 \\\\ 6 \\\\ 4 \\\\ 3 \\\\ 4 \\\\ 6 \\\\ 2 \\\\ 1 \\\\\n",
    "    \\end{bmatrix}\n",
    "\\end{equation}\n",
    "\n",
    "\n"
   ]
  },
  {
   "cell_type": "code",
   "execution_count": 17,
   "id": "d5Jt58yuiJ3d",
   "metadata": {
    "colab": {
     "base_uri": "https://localhost:8080/",
     "height": 516
    },
    "id": "d5Jt58yuiJ3d",
    "outputId": "0d76e5f7-175f-4330-95dc-a0bc96005124"
   },
   "outputs": [
    {
     "data": {
      "image/png": "[encoded data removed]",
      "text/plain": [
       "<Figure size 640x480 with 1 Axes>"
      ]
     },
     "metadata": {},
     "output_type": "display_data"
    }
   ],
   "source": [
    "import networkx as nx\n",
    "import matplotlib.pyplot as plt\n",
    "\n",
    "\n",
    "nodes = range(1, 10)\n",
    "edges = [\n",
    "    (1, 2, {'label': 'A = 2'}),\n",
    "    (1, 3, {'label': 'B = 3'}),\n",
    "    (2, 8, {'label': 'C = 4'}),\n",
    "    (3, 4, {'label': 'D = 2'}),\n",
    "    (3, 5, {'label': 'E = 3'}),\n",
    "    (5, 4, {'label': 'F = 4'}),\n",
    "    (5, 6, {'label': 'G = 6'}),\n",
    "    (5, 7, {'label': 'H = 4'}),\n",
    "    (4, 6, {'label': 'I = 3'}),\n",
    "    (8, 6, {'label': 'J = 4'}),\n",
    "    (8, 9, {'label': 'K = 6'}),\n",
    "    (7, 9, {'label': 'L = 2'}),\n",
    "    (6, 9, {'label': 'M = 1'})\n",
    "]\n",
    "\n",
    "# Create a directed graph of the project\n",
    "G = nx.DiGraph()\n",
    "G.add_nodes_from(nodes)\n",
    "G.add_edges_from(edges)\n",
    "\n",
    "# Draw the graph\n",
    "pos = nx.spectral_layout(G)\n",
    "pos[4] += [-.5, .5]\n",
    "labels = nx.get_edge_attributes(G, 'label')\n",
    "nx.draw(G, pos, with_labels=True, node_size=700, node_color='skyblue', font_size=8, font_color='black')\n",
    "nx.draw_networkx_edge_labels(G, pos, edge_labels=labels)\n",
    "\n",
    "plt.show()\n",
    "\n"
   ]
  },
  {
   "cell_type": "code",
   "execution_count": 18,
   "id": "qzaCRLdljkfP",
   "metadata": {
    "colab": {
     "base_uri": "https://localhost:8080/"
    },
    "id": "qzaCRLdljkfP",
    "outputId": "30786816-dfef-4a3c-9b3c-b0e4f811ca91"
   },
   "outputs": [
    {
     "name": "stdout",
     "output_type": "stream",
     "text": [
      "Minimal Production Time Model: 2\n",
      "# 9 variables, 13 constraints and 26 nonzeros\n",
      "Optimal objective: 14.0 weeks\n",
      "Periods:\n",
      " 1th: 0.0 weeks\n",
      " 2th: 2.0 weeks\n",
      " 3th: 3.0 weeks\n",
      " 4th: 10.0 weeks\n",
      " 5th: 6.0 weeks\n",
      " 6th: 13.0 weeks\n",
      " 7th: 12.0 weeks\n",
      " 8th: 6.0 weeks\n",
      " 9th: 14.0 weeks\n",
      "\n",
      "Variables' attributes: \n",
      "VarName                  |     x_j      low   &   up |     c_j      low   &   up   type\n",
      "Periods[1]               |    0.00     0.00      inf |   -1.00    -1.00      inf      C   \n",
      "Periods[2]               |    2.00     0.00      inf |    0.00     0.00      inf      C   \n",
      "Periods[3]               |    3.00     0.00      inf |    0.00     0.00      inf      C   \n",
      "Periods[4]               |   10.00     0.00      inf |    0.00     0.00      inf      C   \n",
      "Periods[5]               |    6.00     0.00      inf |    0.00     0.00      inf      C   \n",
      "Periods[6]               |   13.00     0.00      inf |    0.00     0.00      inf      C   \n",
      "Periods[7]               |   12.00     0.00      inf |    0.00     0.00     0.00      C   \n",
      "Periods[8]               |    6.00     0.00      inf |    0.00     0.00      inf      C   \n",
      "Periods[9]               |   14.00     0.00      inf |    1.00     1.00      inf      C   \n",
      "\n",
      "Constraints' attributes: \n",
      "ConstrName               |     RHS     Slack         Pi\n",
      "Times[0] : A             |    2.00      0.00       0.00\n",
      "Times[1] : B             |    3.00      0.00       1.00\n",
      "Times[2] : C             |    4.00      0.00       0.00\n",
      "Times[3] : D             |    2.00     -5.00       0.00\n",
      "Times[4] : E             |    3.00      0.00       1.00\n",
      "Times[5] : F             |    4.00      0.00       1.00\n",
      "Times[6] : G             |    6.00     -1.00       0.00\n",
      "Times[7] : H             |    4.00     -2.00       0.00\n",
      "Times[8] : I             |    3.00      0.00       1.00\n",
      "Times[9] : J             |    4.00     -3.00       0.00\n",
      "Times[10]: K             |    6.00     -2.00       0.00\n",
      "Times[11]: L             |    2.00      0.00       0.00\n",
      "Times[12]: M             |    1.00      0.00       1.00\n"
     ]
    }
   ],
   "source": [
    "def  ProjectSchedulingProblem(duration, pred):\n",
    "    # Create a new model\n",
    "    model = Model(\"Minimal Production Time Model\")\n",
    "    model.Params.LogToConsole = 0\n",
    "\n",
    "    # Create default constants\n",
    "    NODES = range(1, 10)\n",
    "    EDGES = 'ABCDEFGHIJKLM'\n",
    "    DURATIONS = [2, 3, 4, 2, 3, 4, 6, 4, 3, 4, 6, 2, 1]\n",
    "    START = [1, 1, 2, 3, 3, 5, 5, 5, 4, 8, 8, 7, 6]\n",
    "    END = [2, 3, 8, 4, 5, 4, 6, 7, 6, 6, 9, 9, 9]\n",
    "\n",
    "    # Create variables\n",
    "    periods = model.addVars(NODES, name=\"Periods\")\n",
    "\n",
    "    # Set objective\n",
    "    model.setObjective(periods[9] - periods[1], GRB.MINIMIZE)\n",
    "\n",
    "    # Add constraints\n",
    "    model.addConstrs((periods[END[i]] - periods[START[i]] >= DURATIONS[i] for i in range(len(DURATIONS))), \"Times\")\n",
    "\n",
    "    # Optimize model\n",
    "    model.optimize()\n",
    "\n",
    "    # Print outcome of the optimization\n",
    "    print(f\"{model.ModelName}: {model.Status}\")\n",
    "    print(f\"# {model.NumVars} variables, {model.NumConstrs} constraints and {model.NumNZs} nonzeros\")\n",
    "    print(f\"Optimal objective: {model.ObjVal} weeks\")\n",
    "    print(\"Periods:\", *[f\" {i}th: {periods[i].X} weeks\" for i in NODES], sep=\"\\n\")\n",
    "\n",
    "    # Print for all variables the most relevant attributes\n",
    "    print(\"\\nVariables' attributes: \")\n",
    "    print(\"VarName                  |     x_j      low   &   up |     c_j      low   &   up   type\")\n",
    "    for v in model.getVars():\n",
    "        print(f\"{v.VarName:24} |{v.X:8.2f} {v.lb:8.2f} {v.ub:8.2f} |{v.obj:8.2f} {v.saobjlow:8.2f} {v.saobjup:8.2f}      {v.vtype:3} \")\n",
    "\n",
    "    # Print for all constraints the most relevant attributes\n",
    "    print(\"\\nConstraints' attributes: \")\n",
    "    print(\"ConstrName               |     RHS     Slack         Pi\")\n",
    "    for i, c in enumerate(model.getConstrs()):\n",
    "        print(f\"{c.ConstrName:9}: {EDGES[i]:13} |{c.rhs:8.2f}  {c.Slack:8.2f}   {c.pi:8.2f}\")\n",
    "\n",
    "    return\n",
    "\n",
    "pred = [0, 0, 1, 2, 2, 4, 4, 4, 3, 7, 7, 6, 5]\n",
    "duration=[2, 3, 4, 2, 3, 4, 6, 4, 3, 4, 6, 2, 1]\n",
    "ProjectSchedulingProblem(duration, pred)\n"
   ]
  },
  {
   "cell_type": "markdown",
   "id": "4bc249b2",
   "metadata": {},
   "source": [
    "## Conclusion\n",
    "After thorough analysis, it has been determined that the minimal total duration required to complete all activities is 14 weeks."
   ]
  }
 ],
 "metadata": {
  "colab": {
   "provenance": [],
   "toc_visible": true
  },
  "kernelspec": {
   "display_name": "Python 3 (ipykernel)",
   "language": "python",
   "name": "python3"
  },
  "language_info": {
   "codemirror_mode": {
    "name": "ipython",
    "version": 3
   },
   "file_extension": ".py",
   "mimetype": "text/x-python",
   "name": "python",
   "nbconvert_exporter": "python",
   "pygments_lexer": "ipython3",
   "version": "3.11.3"
  },
  "toc": {
   "base_numbering": 1,
   "nav_menu": {},
   "number_sections": true,
   "sideBar": true,
   "skip_h1_title": false,
   "title_cell": "Table of Contents",
   "title_sidebar": "Contents",
   "toc_cell": false,
   "toc_position": {},
   "toc_section_display": true,
   "toc_window_display": false
  }
 },
 "nbformat": 4,
 "nbformat_minor": 5
}
