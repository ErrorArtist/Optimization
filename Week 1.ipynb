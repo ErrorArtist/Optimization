{
  "cells": [
    {
      "cell_type": "markdown",
      "metadata": {
        "id": "_-UECnqK_06r"
      },
      "source": [
        "https://www.gurobi.com/academia/academic-program-and-licenses/\n",
        "\n",
        "https://www.gurobi.com/jupyter_models/\n",
        "https://www.gurobi.com/resources/math-programming-modeling-basics/\n",
        "\n",
        "See https://support.gurobi.com/hc/en-us/articles/14799677517585 for Getting Started with Gurobi Optimizer\n",
        "\n",
        "See https://support.gurobi.com/hc/en-us/articles/17278438215313 for Tutorial: Getting Started with the Gurobi Python API"
      ]
    },
    {
      "cell_type": "markdown",
      "metadata": {
        "id": "u0zldOpm_061"
      },
      "source": [
        "## <font color=red>(Part A) Two basic problems from www.gurobi.com</font>\n",
        "Study the two models below and the required steps to get to the solution: defining variables, objective & constaints; solve the model; and finally present the solution.\n",
        "\n",
        "For the first model \"LP1: A Very Basic LP-model\" this should be self-explanatory. At the end, the feasible region is graphically represented. By changing the objective, the optimal solution might change and therefore red dot in the graph as well.\n",
        "\n",
        "For the second model \"LP2\" you can recognize the same steps, but now the numerical solution is presented with all its attributes. These attributes are useful for Sensitivity Analysis (topic of later lectures) and are only available for continuous problems. Also code is added that is especially helpfull during the development of your model. Your first attempt might lead to an unbounded solution, or it might be an infeasible model."
      ]
    },
    {
      "cell_type": "code",
      "source": [
        "!pip install gurobipy"
      ],
      "metadata": {
        "colab": {
          "base_uri": "https://localhost:8080/"
        },
        "id": "85j2l4SxEEO_",
        "outputId": "89f94fab-8985-441d-d3bb-551983e7e0f6"
      },
      "execution_count": null,
      "outputs": [
        {
          "output_type": "stream",
          "name": "stdout",
          "text": [
            "Requirement already satisfied: gurobipy in /usr/local/lib/python3.10/dist-packages (11.0.0)\n"
          ]
        }
      ]
    },
    {
      "cell_type": "code",
      "execution_count": null,
      "metadata": {
        "colab": {
          "base_uri": "https://localhost:8080/",
          "height": 466
        },
        "id": "b9Iqa23Y_063",
        "outputId": "28b3894f-7ad8-4fd9-9a6b-4079f1478652"
      },
      "outputs": [
        {
          "output_type": "stream",
          "name": "stdout",
          "text": [
            "Product 1: 2.4\n",
            "Product 2: 1.6\n"
          ]
        },
        {
          "output_type": "display_data",
          "data": {
            "text/plain": [
              "<Figure size 640x480 with 1 Axes>"
            ],
            "image/png": "[encoded data removed]"
          },
          "metadata": {}
        }
      ],
      "source": [
        "from gurobipy import *\n",
        "\n",
        "m  = Model(\"LP1: A Very Basic LP-model\")\n",
        "x1 = m.addVar(name = \"Product 1\")           # Define decision variables\n",
        "x2 = m.addVar(name = \"Product 2\")\n",
        "\n",
        "m.addConstr(      x1 - x2 <= 2)             # Define constraint 1\n",
        "m.addConstr(      x1 + x2 <= 4)             # Define constraint 2\n",
        "m.addConstr(-0.25*x1 + x2 <= 1)             # Define constraint 3\n",
        "\n",
        "m.setObjective(  x2, GRB.MAXIMIZE)          # Specify objective function and direction (GRB.MINIMIZE for minimization, GRB.MAXIMIZE for maximization)\n",
        "m.params.LogToConsole = 0                   # Avoid output from solver to screen\n",
        "m.optimize()\n",
        "\n",
        "for v in m.getVars():                       # Show the value of all variables in the optimal solution\n",
        "    print('%s: %g' % (v.VarName, v.X))\n",
        "\n",
        "import matplotlib.pyplot as pyplot          # Draw all borders of the feasible region:\n",
        "pyplot.plot([2,5], [0,3])                   #     Constraint 1: line-segment from point (2, 0) to (5, 3)\n",
        "pyplot.plot([4,0], [0,4])                   #     Constraint 2\n",
        "pyplot.plot([0,5], [1,2.25])                #     Constraint 3\n",
        "pyplot.plot([x1.x], [x2.x], 'ro')           # Draw optimal vertex\n",
        "pyplot.show()                               # Feasible region: below the green and orange line & above the blue line"
      ]
    },
    {
      "cell_type": "code",
      "execution_count": null,
      "metadata": {
        "colab": {
          "base_uri": "https://localhost:8080/"
        },
        "id": "YR3plGN3_067",
        "outputId": "339fe630-81b8-420f-9a91-dcd55b7b356b"
      },
      "outputs": [
        {
          "output_type": "stream",
          "name": "stdout",
          "text": [
            "Model has 0 variables, 0 constraints and 0 nonzeros\n",
            "\n",
            "Model has 3 variables, 2 constraints and 5 nonzeros\n",
            "\n",
            "The optimal objective is    4.0\n",
            "\n",
            "VarName           |     x_j   low &  up   |     c_j  low & up       type\n",
            "X                 |   4.000   0.00    inf |    1.00   0.67    inf    C   \n",
            "Y                 |   0.000   0.00    inf |    1.00   -inf   2.00    C   \n",
            "Z                 |   0.000   0.00    inf |    2.00   -inf   3.00    C   \n",
            "\n",
            "ConstrName        |    RHS    low &  up   |   Slack     Pi   CBasis\n",
            "Constraint 0      |    4.00   1.00    inf |    0.00   1.00     -1    <=\n",
            "Constraint 1      |    1.00   -inf   4.00 |   -3.00   0.00      0    >=\n"
          ]
        }
      ],
      "source": [
        "from gurobipy import *\n",
        "\n",
        "try:\n",
        "    # Create a new model\n",
        "    m = Model(\"LP2\")\n",
        "    m.Params.LogToConsole = 0\n",
        "\n",
        "    # Create variables\n",
        "    x = m.addVar(name = \"X\")\n",
        "    y = m.addVar(name = \"Y\")\n",
        "    z = m.addVar(name = \"Z\")\n",
        "\n",
        "    # Set objective\n",
        "    m.setObjective(x + y + 2 * z, GRB.MAXIMIZE)\n",
        "\n",
        "    # Add constraint: x + 2 y + 3 z <= 4\n",
        "    m.addConstr(x + 2*y + 3*z <= 4, \"Constraint 0\")\n",
        "\n",
        "    # Add constraint: x + y >= 1\n",
        "    m.addConstr(x + y >= 1, \"Constraint 1\")\n",
        "\n",
        "    # Optimize model\n",
        "    print(f'Model has {m.NumVars} variables, {m.NumConstrs} constraints and {m.NumNZs} nonzeros\\n')\n",
        "    m.optimize()\n",
        "    print(f'Model has {m.NumVars} variables, {m.NumConstrs} constraints and {m.NumNZs} nonzeros\\n')\n",
        "\n",
        "    # Check outcome of the model\n",
        "    status = m.Status\n",
        "    if status == GRB.UNBOUNDED:\n",
        "        print(\"The model cannot be solved because it is unbounded\")\n",
        "    elif status == GRB.OPTIMAL:\n",
        "        print(f\"The optimal objective is {m.ObjVal:6.2}\")\n",
        "    elif status != GRB.INF_OR_UNBD and status != GRB.INFEASIBLE:\n",
        "        print(f\"Optimization was stopped with status {status}\")\n",
        "    if status != GRB.OPTIMAL:\n",
        "        print(\"Status code: \", status, \"\\nSee: https://www.gurobi.com/documentation/11.0/refman/optimization_status_codes.html#sec:StatusCodes\")\n",
        "\n",
        "    # Print for all variables the most relevant attributes\n",
        "    print(\"\\nVarName           |     x_j   low &  up   |     c_j  low & up       type\")\n",
        "    for v in m.getVars():\n",
        "        print(f\"{v.VarName:17} |{v.X:8.3f} {v.lb:6.2f} {v.ub:6.2f} |{v.obj:8.2f} {v.saobjlow:6.2f} {v.saobjup:6.2f}    {v.vtype:3} \")\n",
        "\n",
        "    # Print for all constraints the most relevant attributes\n",
        "    print(\"\\nConstrName        |    RHS    low &  up   |   Slack     Pi   CBasis\")\n",
        "    for c in m.getConstrs():\n",
        "        print(f\"{c.ConstrName:17} |{c.rhs:8.2f} {c.SArhslow:6.2f} {c.SArhsup:6.2f} |{c.Slack:8.2f} {c.pi:6.2f} {c.cbasis:6}    {c.Sense}=\")\n",
        "\n",
        "except gp.GurobiError as e:\n",
        "    print('Error code ' + str(e.errno) + ': ' + str(e))\n",
        "except AttributeError:\n",
        "    print('Encountered an attribute error')"
      ]
    },
    {
      "cell_type": "markdown",
      "metadata": {
        "id": "JOdVtYpd_069"
      },
      "source": [
        "## <font color=red>(Part B) Dovetail problem</font>\n",
        "From <I>Linear and Integer Optimization</I>, Gerard Sierksma & Yori Zwols, 3$^{ed}$, CRC Press, 2015 (Chapter 1.1, page 2).\n",
        "<OL>\n",
        "    \n",
        "###  Explicit formulation of the model\n",
        "This is not the preferred way, as this approach produces (very) long formulations for model with more variables / constraints and does not emphisise the essence of the model very well."
      ]
    },
    {
      "cell_type": "code",
      "execution_count": null,
      "metadata": {
        "colab": {
          "base_uri": "https://localhost:8080/"
        },
        "id": "i9y_hOCq_06_",
        "outputId": "ae421300-5d0b-4340-ed83-b32bd6adfb62"
      },
      "outputs": [
        {
          "output_type": "stream",
          "name": "stdout",
          "text": [
            "\n",
            "First, we solve the DoveTail problem as formulated in the book\n",
            "----------------------------------------------------------------------\n",
            "Model has 2 variables, 2 constraints and 4 nonzeros\n",
            "\n",
            "The optimal objective is 22.5\n",
            "\n",
            "VarName           |     x_j   low &  up   |     c_j  low & up\n",
            "Long matches      |    4.50   0.00   7.00 |    3.00   2.00   6.00\n",
            "Short matches     |    4.50   0.00   6.00 |    2.00   1.00   3.00\n",
            "\n",
            "ConstrName        |    RHS    low &  up   |   Slack     Pi \n",
            "max # of boxes    |    9.00   6.00  10.00 |    0.00   1.50\n",
            "max avail wood    |   18.00  15.00  23.00 |    0.00   0.50\n"
          ]
        }
      ],
      "source": [
        "from gurobipy import *\n",
        "\n",
        "m = Model(\"Dovetail 1\")                        # All equations written out\n",
        "m.Params.LogToConsole = 0\n",
        "\n",
        "x1 = m.addVar(ub = 7, name = \"Long matches \")     # NB. by default lb = 0, so when defining variables take care of part D and E\n",
        "x2 = m.addVar(ub = 6, name = \"Short matches\")     # lb: lower bound, ub:upper bound\n",
        "\n",
        "m.setObjective(3 * x1 + 2 * x2, GRB.MAXIMIZE)\n",
        "\n",
        "m.addConstr(     x1 + x2 <=  9, 'max # of boxes')\n",
        "m.addConstr( 3 * x1 + x2 <= 18, 'max avail wood')\n",
        "\n",
        "print(\"\\nFirst, we solve the DoveTail problem as formulated in the book\")\n",
        "print(\"-------\" * 10)\n",
        "\n",
        "m.optimize()\n",
        "\n",
        "print(f'Model has {m.NumVars} variables, {m.NumConstrs} constraints and {m.NumNZs} nonzeros\\n')\n",
        "print(f\"The optimal objective is {m.ObjVal:g}\")\n",
        "print(\"\\nVarName           |     x_j   low &  up   |     c_j  low & up\")\n",
        "for v in m.getVars():\n",
        "    print(f\"{v.VarName:17} |{v.X:8.2f} {v.lb:6.2f} {v.ub:6.2f} |{v.obj:8.2f} {v.saobjlow:6.2f} {v.saobjup:6.2f}\")\n",
        "print(\"\\nConstrName        |    RHS    low &  up   |   Slack     Pi \")\n",
        "for c in m.getConstrs():\n",
        "    print(f\"{c.ConstrName:17} |{c.rhs:8.2f} {c.SArhslow:6.2f} {c.SArhsup:6.2f} |{c.Slack:8.2f} {c.pi:6.2f}\")"
      ]
    },
    {
      "cell_type": "code",
      "execution_count": null,
      "metadata": {
        "colab": {
          "base_uri": "https://localhost:8080/"
        },
        "id": "3TOI214__07B",
        "outputId": "f46e4ff6-3cf0-4d11-e2de-8396f6fb5290"
      },
      "outputs": [
        {
          "output_type": "stream",
          "name": "stdout",
          "text": [
            "\n",
            "Next, we add an additional constraint\n",
            "----------------------------------------------------------------------\n",
            "New model has 2 variables, 5 constraints and 10 nonzeros\n",
            "\n",
            "New optimal solution with z = 1.6 found\n",
            "\n",
            "New solution:\n",
            "Product 1         |    2.40   0.00    inf |    0.00  -0.25   1.00\n",
            "Product 2         |    1.60   0.00    inf |    1.00  -0.00    inf\n"
          ]
        }
      ],
      "source": [
        "#  Make sure that the previous cell has just been executed.\n",
        "\n",
        "print(\"\\nNext, we add an additional constraint\")\n",
        "print(\"-------\" * 10)\n",
        "m.addConstr(2*x1 + x2 <= 12, 'resource3') # give a name 'resource3' to this constraint\n",
        "m.optimize()\n",
        "\n",
        "print(f'New model has {m.NumVars} variables, {m.NumConstrs} constraints and {m.NumNZs} nonzeros\\n')\n",
        "print(f'New optimal solution with z = {m.ObjVal:g} found')\n",
        "print('\\nNew solution:')\n",
        "for v in m.getVars():\n",
        "    print(f\"{v.VarName:17} |{v.X:8.2f} {v.lb:6.2f} {v.ub:6.2f} |{v.obj:8.2f} {v.saobjlow:6.2f} {v.saobjup:6.2f}\")"
      ]
    },
    {
      "cell_type": "markdown",
      "metadata": {
        "id": "TCqUJIU5_07C"
      },
      "source": [
        "## <font color=red>(Part B) Dovetail problem</font>\n",
        "From <I>Linear and Integer Optimization</I>, Gerard Sierksma & Yori Zwols, 3$^{ed}$, CRC Press, 2015 (Chapter 1.1, page 2).\n",
        "<OL>\n",
        "    \n",
        "###  More general way of formulating the model\n",
        "This is the preferred way, as the model is separated from the data and the utilization of the model is not just limited to solving one specific problem instance. The model in the cell still has two constraints, but can now be used with different numbers of products. It also demonstrates the often used Gurobi functions <code>x.sum</code> and <code>quicksum</code>. These type of models are referred to as symbolic-indexed, or parametrized-indexed models.\n",
        "\n",
        "Furthermore, the specification of the model is implemented as a function. In practice, a model is often used for solving  several problem instances, or with slightly adjusted values of the parameters (Sensitivity Analysis). In the next cells four examples of using the DoveTailProblem are given:\n",
        "\n",
        "- two problem instances of the Dovetail proble are solved\n",
        "- a manual Sensitivity Analysis of one of the RHS coefficients of the model.\n",
        "- a Full Parametric Sensitivity Analysis of one of the RHS coefficients of the model, i.e. the perturbation function  $𝑧^∗(𝑏_1\n",
        " )$ is determined. See e.g. Figure 5.6 from the book.\n",
        "- a Full Parametric Sensitivity Analysis of one of the coefficients of the objective of the model, i.e. the perturbation function  $𝑧^∗(𝑐_1)$ is determined. See e.g. Figure 5.4 from the book."
      ]
    },
    {
      "cell_type": "code",
      "execution_count": null,
      "metadata": {
        "id": "gsPPaR_3_07E"
      },
      "outputs": [],
      "source": [
        "from gurobipy import *\n",
        "\n",
        "def DoveTailProblem():\n",
        "\n",
        "    n = len(Bounds)\n",
        "    m = Model(\"Dovetail2\")                             # Same model, different Python formulation\n",
        "    m.Params.LogToConsole = 0\n",
        "\n",
        "    # Section with model specification (separated from the data)\n",
        "    x = m.addVars(n, name=\"Matches\", ub=Bounds)\n",
        "    m.setObjective(quicksum(Profit[i] * x[i] for i in range(n)), GRB.MAXIMIZE)\n",
        "\n",
        "    m.addConstr( x.sum() <=  MaxRHS[0], 'max # of boxes')\n",
        "    m.addConstr( quicksum(Coeffs[i] * x[i] for i in range(n)) <= MaxRHS[1], 'max avail resource')\n",
        "    return m"
      ]
    },
    {
      "cell_type": "code",
      "execution_count": null,
      "metadata": {
        "colab": {
          "base_uri": "https://localhost:8080/"
        },
        "id": "ndC_LUjz_07F",
        "outputId": "42caa160-319f-4e8c-cf94-65054cefaced"
      },
      "outputs": [
        {
          "output_type": "stream",
          "name": "stdout",
          "text": [
            "Problem instances 1: Model has 2 variables, 2 constraints and 4 nonzeros\n",
            "The optimal objective is 22.5\n",
            "VarName           |     x_j\n",
            "Matches[0]        |    4.50 \n",
            "Matches[1]        |    4.50 \n",
            "\n",
            "\n",
            "Problem instances 2: Model has 3 variables, 2 constraints and 6 nonzeros\n",
            "The optimal objective is 30\n",
            "VarName           |     x_j\n",
            "Matches[0]        |    2.00 \n",
            "Matches[1]        |    2.00 \n",
            "Matches[2]        |    5.00 \n"
          ]
        }
      ],
      "source": [
        "# Section with parameters (the required data for your model)\n",
        "Bounds = [7, 6]\n",
        "Profit = [3, 2]\n",
        "Coeffs = [3, 1]\n",
        "MaxRHS = [9, 18]\n",
        "\n",
        "# Combine the data with your model to solve this specific problem instance\n",
        "dt = DoveTailProblem()\n",
        "dt.optimize()\n",
        "\n",
        "print(f'Problem instances 1: Model has {dt.NumVars} variables, {dt.NumConstrs} constraints and {dt.NumNZs} nonzeros')\n",
        "print(f\"The optimal objective is {dt.ObjVal:g}\")\n",
        "print(\"VarName           |     x_j\")\n",
        "for v in dt.getVars():\n",
        "    print(f\"{v.VarName:17} |{v.X:8.2f} \")\n",
        "\n",
        "# Section with parameters for a second problem instance\n",
        "Bounds = [7, 6, 5]\n",
        "Profit = [3, 2, 4]\n",
        "Coeffs = [3, 1, 2]\n",
        "MaxRHS = [9, 18, 15]\n",
        "\n",
        "dt = DoveTailProblem()\n",
        "dt.optimize()\n",
        "print(f'\\n\\nProblem instances 2: Model has {dt.NumVars} variables, {dt.NumConstrs} constraints and {dt.NumNZs} nonzeros')\n",
        "print(f\"The optimal objective is {dt.ObjVal:g}\")\n",
        "print(\"VarName           |     x_j\")\n",
        "for v in dt.getVars():\n",
        "    print(f\"{v.VarName:17} |{v.X:8.2f} \")"
      ]
    },
    {
      "cell_type": "code",
      "execution_count": null,
      "metadata": {
        "colab": {
          "base_uri": "https://localhost:8080/"
        },
        "id": "Y7aGMt_8_07H",
        "outputId": "41a2d7c3-c02f-4f61-81f8-5c56beb50267"
      },
      "outputs": [
        {
          "output_type": "stream",
          "name": "stdout",
          "text": [
            "First optimal solution with z =  22.50\n",
            "New   optimal solution with z =  23.00\n",
            "Shadow price for  resource 2  =   0.50\n"
          ]
        }
      ],
      "source": [
        "# Back to the original problem\n",
        "Bounds = [7, 6]\n",
        "Profit = [3, 2]\n",
        "Coeffs = [3, 1]\n",
        "MaxRHS = [9, 18]\n",
        "\n",
        "dt = DoveTailProblem()\n",
        "dt.optimize()\n",
        "z1 = dt.ObjVal\n",
        "print(f'First optimal solution with z = {z1:6.2f}')\n",
        "\n",
        "dt.getConstrs()[1].rhs = 19                    # Changing the RHS of the second (!) constraint\n",
        "dt.optimize()\n",
        "z2 = dt.ObjVal\n",
        "\n",
        "print(f'New   optimal solution with z = {z2:6.2f}')\n",
        "print(f'Shadow price for  resource 2  = {z2-z1:6.2f}')"
      ]
    },
    {
      "cell_type": "code",
      "execution_count": null,
      "metadata": {
        "id": "ugA9k0uN_07I",
        "colab": {
          "base_uri": "https://localhost:8080/",
          "height": 521
        },
        "outputId": "27c9b338-48b6-447b-8aef-9b8915eab86a"
      },
      "outputs": [
        {
          "output_type": "stream",
          "name": "stderr",
          "text": [
            "<ipython-input-14-ec5980d2b61c>:14: MatplotlibDeprecationWarning: The seaborn styles shipped by Matplotlib are deprecated since 3.6, as they no longer correspond to the styles shipped by seaborn. However, they will remain available as 'seaborn-v0_8-<style>'. Alternatively, directly use the seaborn API instead.\n",
            "  plt.style.use('seaborn-whitegrid')\n"
          ]
        },
        {
          "output_type": "display_data",
          "data": {
            "text/plain": [
              "<Figure size 640x480 with 1 Axes>"
            ],
            "image/png": "[encoded data removed]"
          },
          "metadata": {}
        }
      ],
      "source": [
        "# Back to the original problem\n",
        "dt = DoveTailProblem()\n",
        "dt.update()\n",
        "\n",
        "# Specify a range of values for your parameter of interest, here b_0 (the RHS of the first constraint)\n",
        "bees  = range(19)\n",
        "z_all = []                                      # Keeping track of all optimal values\n",
        "for b0 in bees:\n",
        "    dt.getConstrs()[0].rhs = b0                 # Simular as above; here with a series of values\n",
        "    dt.optimize()\n",
        "    z_all.append(dt.ObjVal)\n",
        "\n",
        "import matplotlib.pyplot as plt\n",
        "plt.style.use('seaborn-whitegrid')\n",
        "ax = plt.axes()\n",
        "ax.plot(bees, z_all)\n",
        "ax.set(xlim=(0, 18), ylim=(0, 35), title=\"Full Parametric Analysis\", xlabel=\"Availability of Resource 1 (b_0)\", ylabel=\"z-opt\");"
      ]
    },
    {
      "cell_type": "code",
      "execution_count": null,
      "metadata": {
        "scrolled": true,
        "colab": {
          "base_uri": "https://localhost:8080/",
          "height": 521
        },
        "id": "jafz5Kok_07I",
        "outputId": "64deba02-956b-487c-efd1-066ade5a3198"
      },
      "outputs": [
        {
          "output_type": "stream",
          "name": "stderr",
          "text": [
            "<ipython-input-15-2efa6f06b8be>:15: MatplotlibDeprecationWarning: The seaborn styles shipped by Matplotlib are deprecated since 3.6, as they no longer correspond to the styles shipped by seaborn. However, they will remain available as 'seaborn-v0_8-<style>'. Alternatively, directly use the seaborn API instead.\n",
            "  plt.style.use('seaborn-whitegrid')\n"
          ]
        },
        {
          "output_type": "display_data",
          "data": {
            "text/plain": [
              "<Figure size 640x480 with 1 Axes>"
            ],
            "image/png": "[encoded data removed]"
          },
          "metadata": {}
        }
      ],
      "source": [
        "import numpy as np\n",
        "\n",
        "# Back to the original problem\n",
        "dt = DoveTailProblem()\n",
        "dt.update()\n",
        "\n",
        "# Specify a range of values for your parameter of interest, here c_0 (the coefficient of the first variable)\n",
        "cees  = np.arange(0, 10, 0.1)\n",
        "z_all = []                                               # Keeping track of all optimal values for i in x:\n",
        "for c0 in cees:\n",
        "    dt.getVars()[0].obj = c0                             # Changing the python variable Profit[0] will have no effect\n",
        "    dt.optimize()\n",
        "    z_all.append(dt.ObjVal)\n",
        "\n",
        "plt.style.use('seaborn-whitegrid')\n",
        "ax = plt.axes()\n",
        "ax.plot(cees, z_all)\n",
        "ax.set(xlim=(0, 10), ylim=(0, 80), title=\"Full Parametric Analysis\", xlabel=\"Profit per unit of product 1 (c_0)\", ylabel=\"z-opt\");"
      ]
    },
    {
      "cell_type": "markdown",
      "metadata": {
        "id": "twCKJK9T_07J"
      },
      "source": [
        "## <font color=red>(Part C) Add your own models</font>\n",
        "\n",
        "### Now, solve 2 of the 5 models for problem W1.0 ... W1.4\n"
      ]
    },
    {
      "cell_type": "markdown",
      "source": [
        "# Assignment 1\n",
        "#### **Author**: *Anton Pham* 13179543, *Bowen Ma* 12960780, *Weichen Fang* 13218115\n",
        " Question W1.0 and W1.2 are the designated questions based on our student numbers"
      ],
      "metadata": {
        "id": "Dxaigo4RjC5C"
      }
    },
    {
      "cell_type": "markdown",
      "source": [
        "# W1.0 - Model Formulation  \n",
        "### $\\mathrm{I.}$ Decision Variables\n",
        "We assign numerical values (1, 2, 3, 4) to different materials of backpacks, representing Canvas, Plastic, Nylon, and Leather, respectively.We define,  \n",
        "$x_i:=$ number of backpack $i$ produced by the end of the following week, $i \\in \\{1, 2, 3, 4\\}$.  \n",
        "### $\\mathrm{II.}$ Objective Function\n",
        "\\begin{aligned}\n",
        "&\\max\\quad 35.5x_1+39.5x_2+42.5x_3+69.5x_4-(2.25\\cdot4.5x_1+2.4\\cdot4.25x_2+2.1\\cdot7.65x_3+2.6\\cdot9.45x_4)-(1.5\\cdot7(x_1+x_2)+1.7\\cdot8x_3+1.9\\cdot9x_4)\\\\\n",
        "⟹\\\\\n",
        "&\\max\\quad 14.875x_1+18.8x_2+12.835x_3+27.83x_4\\end{aligned}\n",
        "### $\\mathrm{III.}$  Constraints\n",
        "\\begin{align}\n",
        "\\begin{cases}\n",
        "15\\leq x_1,x_2,x_3,x_4\\leq40\\\\\n",
        "1.5(x_1+x_2)\\leq90\\\\1.7x_3\\leq42.5\\\\\n",
        "1.9x_4\\leq80\\\\\n",
        "2.25x_1\\leq200\\\\\n",
        "2.4x_2\\leq350\\\\\n",
        "2.1x_3\\leq700\\\\\n",
        "2.6x_4\\leq550\n",
        "\\end{cases},\n",
        "⟹\n",
        "\\begin{cases}\n",
        "x_1\\leq40\\\\-x_1\\leq-15\\\\\n",
        "x_2\\leq40\\\\-x_2\\leq-15\\\\\n",
        "x_3\\leq25\\\\-x_3\\leq-15\\\\\n",
        "x_4\\leq40\\\\-x_4\\leq-15\\\\\n",
        "x_1+x_2\\leq60\n",
        "\\end{cases}\n",
        "\\end{align}\n",
        "### $\\mathrm{IV.}$ Matrix form\n",
        "\\begin{align}\n",
        "\\max\\quad \\bigg\\{\\begin{bmatrix}14.875\\\\18.8\\\\12.835\\\\27.93\\end{bmatrix}^T\\begin{bmatrix}x_1\\\\x_2\\\\x_3\\\\x_4\\end{bmatrix}\\bigg|\\begin{bmatrix}1&0&0&0\\\\-1&0&0&0\\\\0&1&0&0\\\\0&-1&0&0\\\\0&0&1&0\\\\0&0&-1&0\\\\0&0&0&1\\\\0&0&0&-1\\\\1&1&0&0\\end{bmatrix}\\begin{bmatrix}x_1\\\\x_2\\\\x_3\\\\x_4\\end{bmatrix}\\leq\\begin{bmatrix}40\\\\-15\\\\40\\\\-15\\\\40\\\\-15\\\\40\\\\-15\\\\60\\end{bmatrix}\\bigg\\}\n",
        "\\end{align}"
      ],
      "metadata": {
        "id": "21VE2iaZrfJe"
      }
    },
    {
      "cell_type": "code",
      "execution_count": null,
      "metadata": {
        "id": "JIovFOiO_07K",
        "colab": {
          "base_uri": "https://localhost:8080/"
        },
        "outputId": "52ec271a-ee25-4c97-c817-1ef30231c7da"
      },
      "outputs": [
        {
          "output_type": "stream",
          "name": "stdout",
          "text": [
            "Restricted license - for non-production use only - expires 2025-11-24\n",
            "Model has 4 variables, 1 constraints and 2 nonzeros\n",
            "\n",
            "The optimal objective is 2483.57\n",
            "\n",
            "VarName           |     x_j   low &  up   |     c_j  low & up\n",
            "Canvas            |   20.00  15.00  40.00 |   14.88  -0.00  18.80\n",
            "Plastic           |   40.00  15.00  40.00 |   18.80  14.88    inf\n",
            "Nylon             |   25.00  15.00  25.00 |   12.84  -0.00    inf\n",
            "Leather           |   40.00  15.00  40.00 |   27.83  -0.00    inf\n",
            "\n",
            "ConstrName        |    RHS    low &  up   |   Slack     Pi \n",
            "time constraint for worker |   60.00  55.00  80.00 |    0.00  14.88\n",
            "{'Canvas': 20.0, 'Plastic': 40.0, 'Nylon': 25.0, 'Leather': 40.0}\n"
          ]
        }
      ],
      "source": [
        "# Code for solving W1.0\n",
        "from gurobipy import *\n",
        "\n",
        "def BackpackProblem():\n",
        "    n = 4\n",
        "    m = Model(\"BackpackProblem\")\n",
        "    m.Params.LogToConsole = 0\n",
        "    backpacks=['Canvas', 'Plastic','Nylon', 'Leather']\n",
        "    # Section with model specification (separated from the data)\n",
        "    x = m.addVars(n, name=backpacks, ub=UpperBounds, lb=LowerBounds)\n",
        "\n",
        "    m.setObjective(quicksum(Profit[i] * x[i] for i in range(n)), GRB.MAXIMIZE)\n",
        "\n",
        "    # Add constraints here if needed\n",
        "    m.addConstr(x[0]+x[1] <= 60, 'time constraint for worker')\n",
        "\n",
        "    m.optimize()\n",
        "\n",
        "    print(f'Model has {m.NumVars} variables, {m.NumConstrs} constraints and {m.NumNZs} nonzeros\\n')\n",
        "    print(f\"The optimal objective is {m.ObjVal:g}\")\n",
        "    print(\"\\nVarName           |     x_j   low &  up   |     c_j  low & up\")\n",
        "    for v in m.getVars():\n",
        "        print(f\"{v.VarName:17} |{v.X:8.2f} {v.lb:6.2f} {v.ub:6.2f} |{v.obj:8.2f} {v.saobjlow:6.2f} {v.saobjup:6.2f}\")\n",
        "    print(\"\\nConstrName        |    RHS    low &  up   |   Slack     Pi \")\n",
        "    for c in m.getConstrs():\n",
        "        print(f\"{c.ConstrName:17} |{c.rhs:8.2f} {c.SArhslow:6.2f} {c.SArhsup:6.2f} |{c.Slack:8.2f} {c.pi:6.2f}\")\n",
        "    profit_optimized = dict((v.varName, v.x) for v in m.getVars())\n",
        "    print(profit_optimized)\n",
        "\n",
        "    return m\n",
        "\n",
        "# Data definition\n",
        "n = 4\n",
        "Profit = [14.875, 18.8, 12.835, 27.83]\n",
        "UpperBounds = [40, 40, 25, 40]\n",
        "LowerBonds = [15, 15, 15, 15]\n",
        "\n",
        "# Call the function\n",
        "model = BackpackProblem()"
      ]
    },
    {
      "cell_type": "markdown",
      "source": [
        "### $\\mathrm{V.}$  Conclusion\n",
        "To optimize profits, the manufacturer should consider producing a specific quantity of each bag type: 20 canvas bags, 40 plastic bags, 25 nylon bags, and 40 leather bags. The maximum achievable profit from this production mix is $2,483.57."
      ],
      "metadata": {
        "id": "UCSm_zNv_07K"
      }
    },
    {
      "cell_type": "markdown",
      "source": [
        "# W1.1 - Model Formulation\n",
        "\n",
        "### $\\mathrm{I.}$ Decision Variables\n",
        "We assign numerical values (1, 2, 3, 4, 5, 6) to different ingredient, representing beef, pork, corn, lamb, rice, chicken, respectively. We define,  \n",
        "$x_i:=$pound of $i$ needed to produce per pound puppy food, $i \\in \\{1, 2, 3, 4, 5, 6\\}$.  \n",
        "\n",
        "### $\\mathrm{II.}$ Objective Function\n",
        "\\begin{aligned}\n",
        "&\\min\\quad 0.52x_1 + 0.49x_2 + 0.20x_3 + 0.40x_4 + 0.17x_5 + 0.39x_6\\\\\n",
        "\\end{aligned}\n",
        "\n",
        "### $\\mathrm{III.}$  Constraints\n",
        "\\begin{aligned}\n",
        "\\begin{cases}\n",
        "-0.169x_1 - 0.12x_2 - 0.085x_3 - 0.154x_4 - 0.085x_5 - 0.18x_6 \\leq -0.16\\\\\n",
        "-0.26x_1 - 0.041x_2 - 0.038x_3 - 0.063x_4 - 0.038x_5 - 0.179x_6 \\leq -0.13\\\\\n",
        "0.29x_1 + 0.083x_2 + -0.027x_3 + 0.024x_4 + 0.027x_5 + 0.288 \\leq 0.15 \\\\\n",
        "x_1 +x_2+x_3+x_4+x_5+x_6 = 1\\\\\n",
        "x_1, x_2,x_3,x_4,x_5,x_6 \\geq 0\\\\\n",
        "\\end{cases}\n",
        "\\end{aligned}\n",
        "\n",
        "### $\\mathrm{IV.}$ Matrix form\n",
        "\\begin{align}\n",
        "\\min\\quad \\bigg\\{\\begin{bmatrix}0.52\\\\0.49\\\\0.20\\\\0.40\\\\0.17\\\\0.39\\end{bmatrix}^T\\begin{bmatrix}x_1\\\\x_2\\\\x_3\\\\x_4\\\\x_5\\\\x_6\\end{bmatrix}\\bigg|\\begin{bmatrix}-0.169 & -0.12 & -0.085 & -0.154 & -0.085 &- 0.18\\\\ -0.26 & -0.041 & -0.038 & -0.063 & -0.038 & -0.179\\\\ 0.29 & 0.083 & 0.027 & 0.024 & 0.027 & 0.288 \\end{bmatrix}\\begin{bmatrix}x_1\\\\x_2\\\\x_3\\\\x_4\\\\x_5\\\\x_6\\end{bmatrix}\\leq\\begin{bmatrix}-0.16\\\\-0.13\\\\0.15\\end{bmatrix},\\begin{bmatrix}x_1\\\\x_2\\\\x_3\\\\x_4\\\\x_5\\\\x_6\\end{bmatrix}\\geq0, \\begin{bmatrix}\n",
        "1 & 1 & 1 & 1 & 1 & 1\n",
        "\\end{bmatrix}\n",
        "\\begin{bmatrix}\n",
        "x_1 \\\\\n",
        "x_2 \\\\\n",
        "x_3 \\\\\n",
        "x_4 \\\\\n",
        "x_5 \\\\\n",
        "x_6\n",
        "\\end{bmatrix} = 1\\bigg\\}\n",
        "\\end{align}\n"
      ],
      "metadata": {
        "id": "3VHxmmNFflyG"
      }
    },
    {
      "cell_type": "markdown",
      "source": [
        "# W1.2 - Model Formulation  \n",
        "### $\\mathrm{I.}$ Decision Variables\n",
        "We assign numerical values (1, 2) to the amount of Pork and Beef used, beside the 25% of 2-ounce all-meat hot dog, and (3, 4) representing Chicken and Turkey, respectively. We define,  \n",
        "$x_i:=$ the amount of the ingredient $i$ needed to produce 2-ounce all-meat hot dog, $i\\in \\{3, 4\\}$\\\n",
        "$x_i:=$ the extra amount of the ingredient $i$ needed to produce 2-ounce all meat hot dog, $i\\in\\{1,2\\}$\\\n",
        "$x_i$ in unit of pound\n",
        "\n",
        "\n",
        "\\begin{array}{|l|l|l|l|l|}\n",
        "\\hline\n",
        "\\text{Meat} & \\text{Cost(\\$)/pound} & \\text{Calories/pound} & \\text{Fat/(gr/lb.)} & \\text{Cholesterol/(gr/lb.)} \\\\\n",
        "\\hline\n",
        "\\text{Beef} & 0.76 & 640 & 32.5 & 210 \\\\\n",
        "\\text{Pork} & 0.82 & 1055 & 54 & 205 \\\\\n",
        "\\text{Chicken} & 0.64 & 780 & 25.6 & 220 \\\\\n",
        "\\text{Turkey} & 0.58 & 528 & 6.4 & 172 \\\\\n",
        "\\hline\n",
        "\\end{array}\n",
        "### $\\mathrm{II.}$ Objective Function\n",
        "\\begin{align}\n",
        "&\\min\\quad 0.76(x_1+0.03125)+0.82(x_2+0.03125)+0.64x_3+0.58x_4\\\\\n",
        "&\\min\\quad 0.76x_1+0.82x_2+0.64x_3+0.58x_4\n",
        "\\end{align}\n",
        "\n",
        "\n",
        "### $\\mathrm{III.}$  Constraints\n",
        "\\begin{aligned}\n",
        "\\begin{cases}\n",
        "32.5x_1+54x_2+25.6x_3+6.4x_4&\\leq6-0.25\\cdot 0.125(32.5+54)=3.296875\\\\\n",
        "210x_1+205x_2+220x_3+172x_4&\\leq27-0.25\\cdot0.125(210+205)=14.28125\\\\\n",
        "640x_1+1055x_2+780x_3+528x_4&\\leq100-0.25\\cdot 0.125(640+1055)=47.03125\\\\\n",
        "x_1+x_2+x_3+x_4&\\leq0.125-2*0.03125=0.0625\\\\\n",
        "x_1,x_2,x_3,x_4&\\geq 0\n",
        "\\end{cases}\n",
        "\\end{aligned}\n",
        "### $\\mathrm{IV.}$ Matrix form\n",
        "\\begin{align}\n",
        "\\min\\quad \\bigg\\{\\begin{bmatrix}0.76\\\\0.82\\\\0.64\\\\0.58\\end{bmatrix}^T\\begin{bmatrix}x_1\\\\x_2\\\\x_3\\\\x_4\\end{bmatrix}\\bigg|\\begin{bmatrix}32.5&54&25.6&6.4\\\\210&205&220&172\\\\640&1055&780&528\\\\1&1&1&1\\end{bmatrix}\\begin{bmatrix}x_1\\\\x_2\\\\x_3\\\\x_4\\end{bmatrix}\\leq\\begin{bmatrix}3.296875\\\\14.28125\\\\47.03125\\\\0.0625\\end{bmatrix},\\begin{bmatrix}x_1\\\\x_2\\\\x_3\\\\x_4\\end{bmatrix}\\geq0\n",
        "\\bigg\\}\n",
        "\\end{align}"
      ],
      "metadata": {
        "id": "7Bf7_GqWPCWw"
      }
    },
    {
      "cell_type": "code",
      "source": [
        "# Code for solving W1.2\n",
        "\n",
        "from gurobipy import Model, GRB, quicksum\n",
        "\n",
        "\n",
        "def solve_hotDog():\n",
        "    # Create a new model\n",
        "    model = Model(\"Make_HotDog\")\n",
        "    model.Params.LogToConsole = 0\n",
        "\n",
        "    # Create default constants\n",
        "    CONSTANTS={\n",
        "        \"cost\": [.76, .82, .64, .58],\n",
        "        \"calories\": [640, 1055, 780, 528],\n",
        "        \"fat\": [32.5, 54.0, 25.6, 6.4],\n",
        "        \"cholesterol\": [210, 205, 220, 172]\n",
        "    }\n",
        "\n",
        "    # Create variables\n",
        "    amounts = model.addVars(4, name=['Beef', 'Pork', 'Chicken', 'Turkey'], lb=0)\n",
        "\n",
        "    # Set objective\n",
        "    model.setObjective(quicksum(CONSTANTS['cost'][i] * amounts[i] for i in range(4)), GRB.MINIMIZE)\n",
        "\n",
        "    # Add constraints\n",
        "    ## Weight = .125 - .03125 - .03125 pound\n",
        "    model.addConstr(quicksum(amounts[i] for i in range(4)) == .0625, \"Weight\")\n",
        "    ## Calories <= 100 - .03125*(640 + 1055) calories\n",
        "    model.addConstr(quicksum(CONSTANTS['calories'][i] * amounts[i] for i in range(4)) <= 47.03125, \"Calories\")\n",
        "    ## Fat <= 6 - .03125*(32.5 + 54.0) grams\n",
        "    model.addConstr(quicksum(CONSTANTS['fat'][i] * amounts[i] for i in range(4)) <= 3.296875, \"Fat\")\n",
        "    ## Cholesterol <= 27 - .03125*(210 + 205) grams\n",
        "    model.addConstr(quicksum(CONSTANTS['cholesterol'][i] * amounts[i] for i in range(4)) <= 14.03125, \"Cholesterol\")\n",
        "\n",
        "    # Optimize model\n",
        "    model.optimize()\n",
        "\n",
        "    # Check outcome of the model\n",
        "    print(f'Model: {model.NumVars} variables, {model.NumConstrs} constraints and {model.NumNZs} nonzeros')\n",
        "    print(f\"Optimal Cost: {model.ObjVal + (0.76+0.82)*0.03125} dollars.\\n\")\n",
        "    amounts_optimized = {v.varName: v.x for v in model.getVars()}\n",
        "    print(amounts_optimized)\n",
        "    amounts_optimized['Beef'] += .03125\n",
        "    amounts_optimized['Pork'] += .03125\n",
        "    print(amounts_optimized)\n",
        "\n",
        "    # Print for all variables the most relevant attributes\n",
        "    print(\"\\nVarName           |     x_j   low &  up   |     c_j  low & up       type\")\n",
        "    for v in model.getVars():\n",
        "        print(f\"{v.VarName:17} |{v.X:8.3f} {v.lb:6.2f} {v.ub:6.2f} |{v.obj:8.2f} {v.saobjlow:6.2f} {v.saobjup:6.2f}    {v.vtype:3} \")\n",
        "\n",
        "    # Print for all constraints the most relevant attributes\n",
        "    print(\"\\nConstrName        |    RHS    low &  up   |   Slack     Pi   CBasis\")\n",
        "    for c in model.getConstrs():\n",
        "        print(f\"{c.ConstrName:17} |{c.rhs:8.2f} {c.SArhslow:6.2f} {c.SArhsup:6.2f} |{c.Slack:8.2f} {c.pi:6.2f} {c.cbasis:6}    {c.Sense}=\")\n",
        "\n",
        "\n",
        "solve_hotDog()\n"
      ],
      "metadata": {
        "colab": {
          "base_uri": "https://localhost:8080/"
        },
        "id": "zlzdwUuR1aii",
        "outputId": "a17bee65-927c-48e3-b0ea-5c533623acfd"
      },
      "execution_count": null,
      "outputs": [
        {
          "output_type": "stream",
          "name": "stdout",
          "text": [
            "Model: 4 variables, 4 constraints and 16 nonzeros\n",
            "Optimal Cost: 0.085625 dollars.\n",
            "\n",
            "{'Beef': 0.0, 'Pork': 0.0, 'Chicken': 0.0, 'Turkey': 0.0625}\n",
            "{'Beef': 0.03125, 'Pork': 0.03125, 'Chicken': 0.0, 'Turkey': 0.0625}\n",
            "\n",
            "VarName           |     x_j   low &  up   |     c_j  low & up       type\n",
            "Beef              |   0.000   0.00    inf |    0.76   0.58    inf    C   \n",
            "Pork              |   0.000   0.00    inf |    0.82   0.58    inf    C   \n",
            "Chicken           |   0.000   0.00    inf |    0.64   0.58    inf    C   \n",
            "Turkey            |   0.062   0.00    inf |    0.58   -inf   0.64    C   \n",
            "\n",
            "ConstrName        |    RHS    low &  up   |   Slack     Pi   CBasis\n",
            "Weight            |    0.06   0.00   0.08 |    0.00   0.58     -1    ==\n",
            "Calories          |   47.03  33.00    inf |   14.03   0.00      0    <=\n",
            "Fat               |    3.30   0.40    inf |    2.90   0.00      0    <=\n",
            "Cholesterol       |   14.03  10.75    inf |    3.28   0.00      0    <=\n"
          ]
        }
      ]
    },
    {
      "cell_type": "markdown",
      "source": [
        "### $\\mathrm{V.}$  Conclusion\n",
        "To minimize the cost of producing a 2-ounce all-meat hot dog, the ingredients should comprise 0.03125 pounds of beef and pork, along with 0.0625 pounds of turkey, excluding chicken. The minimized cost for each hot dog is $0.085625."
      ],
      "metadata": {
        "id": "hJhqoLqBQH3O"
      }
    },
    {
      "cell_type": "markdown",
      "source": [
        "# W1.3 - Model Formulation  \n",
        "### $\\mathrm{I.}$ Decision Variables\n",
        "We assign numerical values (1, 2, 3) to different product i, representing product A, B, C, resoectively. We define,  \n",
        "$x_i:=$ production of product $i$. $i \\in \\{1, 2, 3\\}$.  \n",
        "### $\\mathrm{II.}$ Objective Function\n",
        "\\begin{aligned}\n",
        "&\\max\\quad 100x_1 +350x_2 +500x_3 -50x_1 -2⋅50⋅x_2 - 50x_2 - 0.6⋅20⋅x_2 - 1.2(2⋅50+150+0.6⋅20)x_3-0.3⋅50⋅x_3-0.2⋅20⋅x_3 - 40x_3\\\\\n",
        "⟹\\\\\n",
        "&\\max\\quad 50x_1 + 188x_2 +246.6x_3\\end{aligned}\n",
        "\n",
        "### $\\mathrm{III.}$  Constraints\n",
        "\\begin{aligned}\n",
        "\\begin{cases}\n",
        "x_1 \\leq 100\\\\\n",
        "x_2 \\leq 150\\\\\n",
        "x_3 \\leq 200\\\\\n",
        "x_1 + 3x_2 + (3⋅1.2 + 0.3)x_3 \\leq 200\\\\\n",
        "0.6x_2 + (0.6⋅1.2+0.2)x_3 \\leq 150\\\\\n",
        "x_1,x_2,x_3 ≥ 0\n",
        "\\end{cases}\n",
        "\\end{aligned}\n",
        "### $\\mathrm{IV.}$ Matrix form\n",
        "\\begin{align}\n",
        "\\max\\quad \\bigg\\{\\begin{bmatrix}50\\\\188\\\\246.6\\end{bmatrix}^T\\begin{bmatrix}x_1\\\\x_2\\\\x_3\\end{bmatrix}\\bigg|\\begin{bmatrix}1&0&0\\\\0&1&0\\\\0&0&1\\\\1&3&3.9\\\\0&0.6&0.92\\end{bmatrix}\\begin{bmatrix}x_1\\\\x_2\\\\x_3\\end{bmatrix}\\leq\\begin{bmatrix}100\\\\150\\\\200\\\\200\\\\150\\end{bmatrix},\\begin{bmatrix}x_1\\\\x_2\\\\x_3\\end{bmatrix}\\geq0\n",
        "\\bigg\\}\n",
        "\\end{align}\n",
        "\n"
      ],
      "metadata": {
        "id": "XI5dserdIfH8"
      }
    },
    {
      "cell_type": "markdown",
      "source": [
        "# W1.4 - Model Formulation  \n",
        "### $\\mathrm{I.}$ Decision Variables\n",
        "We assign $i \\in \\{1, 2, 3\\}$ to different choices he will chose from, and assign $j \\in \\{1, 2, 3, 4\\}$ to different month. We define,  \n",
        "$x_{ij}:=$ the number of windshields get with choice i in month j. $i \\in \\{1, 2, 3\\}$, $j \\in \\{1, 2, 3, 4\\}$  \\\\\n",
        "\n",
        "### $\\mathrm{II.}$ Objective Function\n",
        "\\begin{aligned}\n",
        "&\\min\\quad 130(x_{11}+x_{12}+x_{13}+x_{14})+150(x_{21}+x_{22}+x_{23}+x_{24})+10(x_{31}+x_{32}+x_{33}+x_{34})\\\\\n",
        "\\end{aligned} \\\\\n",
        "\n",
        "### $\\mathrm{III.}$  Constraints\n",
        "\\begin{aligned}\n",
        "\\begin{cases}\n",
        "x_{11},x_{12},x_{13},x_{14} \\leq 50\\\\\n",
        "x_{21}+x_{22}+x_{23}+x_{24} \\leq 450\\\\\n",
        "x_{31} \\leq 40\\\\\n",
        "x_{32} \\leq 40 + x_{11} + x_{21} - 30\\\\\n",
        "x_{33} \\leq 40 + x_{11} + x_{21} - 30 + x_{12} + x_{22} - 40\\\\\n",
        "x_{34} \\leq 40 + x_{11} + x_{21} - 30 + x_{12} + x_{22} - 40 + x_{13} + x_{23} - 160 \\\\\n",
        "x_{11}+x_{21}+x_{31} ≥ 30\\\\\n",
        "x_{12}+x_{22}+x_{32} ≥ 40\\\\\n",
        "x_{11}+x_{12}+x_{13} ≥ 160\\\\\n",
        "x_{11}+x_{12}+x_{13} ≥ 20\\\\\n",
        "\\end{cases}\n",
        "\\end{aligned} \\\\\n",
        "\n",
        "### $\\mathrm{IV.}$ Matrix Form\n",
        "\\begin{align*}\n",
        "    \\max\\quad \\bigg\\{\n",
        "        \\begin{bmatrix}\n",
        "            130 & \\dots & 150 & \\dots & 10 & \\dots\n",
        "        \\end{bmatrix}\n",
        "        \\begin{bmatrix}\n",
        "            x_{11} \\\\ x_{12} \\\\ \\vdots \\\\x_{34}\n",
        "        \\end{bmatrix}\n",
        "        \\bigg|\n",
        "        \\begin{bmatrix}\n",
        "                   &  \\dots &        \\\\\n",
        "            \\vdots & \\ddots & \\vdots \\\\\n",
        "                   &  \\dots &        \\\\\n",
        "        \\end{bmatrix}\n",
        "        \\begin{bmatrix}\n",
        "            x_{11} \\\\ x_{12} \\\\ \\vdots \\\\x_{34}\n",
        "        \\end{bmatrix} \\leq\n",
        "        \\begin{bmatrix}\n",
        "            50 \\\\ 50 \\\\ 50 \\\\ 50 \\\\ 450 \\\\ 40 \\\\ 10 \\\\ -30 \\\\ -190 \\\\ -30 \\\\ -40 \\\\ -160 \\\\ -20\n",
        "        \\end{bmatrix},\n",
        "        \\begin{bmatrix}\n",
        "            x_{11} \\\\ x_{12} \\\\ \\vdots \\\\x_{34}\n",
        "        \\end{bmatrix} \\geq 0\n",
        "    \\bigg\\}\n",
        "\\end{align*}\n"
      ],
      "metadata": {
        "id": "F30p_-0UPACV"
      }
    },
    {
      "cell_type": "markdown",
      "metadata": {
        "id": "mn6IvkWd_07L"
      },
      "source": [
        "## <font color=red>(Part D) Add the two models for the Least Absolute Deviations Fit</font>\n",
        "\n",
        "### And use the data set from Table 1.5 first and repeat with the data set from Table 1.1\n"
      ]
    },
    {
      "cell_type": "markdown",
      "source": [
        "# **1. Model Formulation - Minimize sum of the absolute values of the residuals**\n",
        "### $\\mathrm{I.}$ Decision Variables\n",
        "We introduce the following decision variables for the least absolute deviations fit:\n",
        "\\begin{align*}\n",
        "    &x_1: \\text{ Independent variable representing } x_1\\\\\n",
        "    &x_2: \\text{ Dependent variable representing } x_2\\\\\n",
        "    &\\alpha: \\text{ Coefficient representing the slope of the line}\\\\\n",
        "    &\\beta: \\text{ Coefficient representing the y-intercept of the line}\\\\\n",
        "    &r_i: \\text{ Residual for observation } i\\\\\n",
        "    &d_i: \\text{ Deviation bound for observation } i\n",
        "\\end{align*} \\\\\n",
        "\n",
        "### $\\mathrm{II.}$ Objective Function\n",
        "The objective is to minimize the sum of deviations :\n",
        "\\begin{align*}\n",
        "    &\\min\\quad \\sum_{i} d_i\n",
        "\\end{align*} \\\\\n",
        "\n",
        "### $\\mathrm{III.}$ Constraints\n",
        "We introduce the following constraints:\n",
        "\\begin{align*}\n",
        "    &-d_i \\leq r_i \\leq d_i\\\\\n",
        "    &r_i = x_{2,i} - \\alpha x_{1,i} - \\beta\n",
        "\\end{align*}\n",
        "\n",
        "These constraints ensure that the residuals $r_i$ are bounded by the deviations $d_i$. \\\\\n",
        "\n",
        "### $\\mathrm{IV.}$ Matrix form\n",
        "The linear programming problem in matrix form can be written as:\n",
        "\\begin{align*}\n",
        "    &\\min\\quad\n",
        "    \\begin{bmatrix}\n",
        "        1 & 1 & \\dots & 1\n",
        "    \\end{bmatrix}\n",
        "    \\begin{bmatrix}\n",
        "        d_1 \\\\ d_2 \\\\ \\vdots \\\\ d_n\n",
        "    \\end{bmatrix}\\\\\n",
        "    &\\text{subject to} \\\\\n",
        "    & \\\\\n",
        "    &\\begin{bmatrix}\n",
        "         1 &                  \\\\\n",
        "        -1 &                  \\\\\n",
        "           &  1               \\\\\n",
        "           & -1               \\\\\n",
        "           &    & \\ddots      \\\\\n",
        "           &    &        &  1 \\\\\n",
        "           &    &        & -1\n",
        "    \\end{bmatrix}\n",
        "    \\begin{bmatrix}\n",
        "        r_{1} \\\\ r_{2} \\\\ \\vdots \\\\ r_{n}\n",
        "    \\end{bmatrix} \\leq\n",
        "    \\begin{bmatrix}\n",
        "        d_1 \\\\ d_1 \\\\ d_2 \\\\ d_2 \\\\ \\vdots \\\\ d_n \\\\ d_n\n",
        "    \\end{bmatrix} \\ \\text{and} \\\\\\\\\n",
        "    &\\begin{bmatrix}\n",
        "        & &   & & &     x_{1,1} &      1 \\\\\n",
        "        & &   & & &     x_{1,2} &      1 \\\\\n",
        "        & & I & & &      \\vdots & \\vdots \\\\\n",
        "        & &   & & & x_{1,n - 1} &      1 \\\\\n",
        "        & &   & & &     x_{1,n} &      1\n",
        "    \\end{bmatrix}\n",
        "    \\begin{bmatrix}\n",
        "        r_{1} \\\\ r_{2} \\\\ \\vdots \\\\ r_{n - 1} \\\\ r_{n} \\\\ \\alpha \\\\ \\beta\n",
        "    \\end{bmatrix} =\n",
        "    \\begin{bmatrix}\n",
        "        x_{2,1} \\\\ x_{2,2} \\\\ \\vdots \\\\ x_{2,n - 1} \\\\ x_{2,n}\n",
        "    \\end{bmatrix}\n",
        "\\end{align*} \\\\\n",
        "\n",
        "where $n$ is the number of observations. \\\\\n",
        "\n",
        "## $\\mathrm{V.}$ Code"
      ],
      "metadata": {
        "id": "vtimoL_5ked9"
      }
    },
    {
      "cell_type": "code",
      "execution_count": null,
      "metadata": {
        "id": "UStm6J2y_07L"
      },
      "outputs": [],
      "source": [
        "#  Code for the Least Absolute Deviations Fit\n",
        "import pandas as pd\n",
        "from gurobipy import Model, GRB, quicksum\n",
        "from pprint import pprint\n",
        "\n",
        "\n",
        "# Minimize the sum of the absolute deviations\n",
        "def minimize_sum_AD(data, show_all=False, verbose=True):\n",
        "    \"\"\"Minimize the sum of the absolute deviations to optimize the least  absolute deviations fit of the regression model for the given data.\n",
        "\n",
        "    Args:\n",
        "        data (pd.DataFrame): a dataframe containing the data with:\n",
        "        - The first column being the indices;\n",
        "        - The remaining columns being the coordinates of the points;\n",
        "        - The second column being the dependent variable.\n",
        "\n",
        "        show_all (bool, optional): whether to also show the residuals and absolute deviations or not; defaults to False.\n",
        "\n",
        "        verbose (bool, optional): whether to output the model's results or not; defaults to True.\n",
        "    \"\"\"\n",
        "\n",
        "    # Create a new model\n",
        "    model = Model(\"Least Absolute Deviations Fit - Sum of Absolute Deviations\")\n",
        "    model.Params.LogToConsole = 0\n",
        "\n",
        "    # Create default constants\n",
        "    subject = data.columns[0]\n",
        "    n_points = data.shape[0]\n",
        "    n_dimensions = data.shape[1] - 1\n",
        "    i_last = n_dimensions - 1\n",
        "\n",
        "    # Create variables\n",
        "    coefficients = model.addVars(n_dimensions, name=\"c\", lb=-GRB.INFINITY)\n",
        "    residuals = model.addVars(n_points, name=\"residuals\", lb=-GRB.INFINITY)\n",
        "    deviations = model.addVars(n_points, name=\"deviations\", lb=0)\n",
        "\n",
        "    # Set objective\n",
        "    model.setObjective(quicksum(deviations[i] for i in range(n_points)), GRB.MINIMIZE)\n",
        "\n",
        "    # Add constraints\n",
        "    for point in data.itertuples():\n",
        "        model.addConstr(\n",
        "            point[2] - quicksum(coefficients[i]*point[j] for i, j in zip(range(i_last), range(3, data.shape[1] + 1))) - coefficients[i_last] == residuals[point[0]],\n",
        "            f\"residual_{subject}{point[1]}\"\n",
        "        )\n",
        "        model.addConstr(\n",
        "            residuals[point[0]] <= deviations[point[0]],\n",
        "            f\"deviation_{subject}{point[1]}_pos\"\n",
        "        )\n",
        "        model.addConstr(\n",
        "            -deviations[point[0]] <= residuals[point[0]],\n",
        "            f\"deviation_{subject}{point[1]}_neg\"\n",
        "        )\n",
        "\n",
        "    # Optimize model\n",
        "    model.optimize()\n",
        "\n",
        "    if not verbose:\n",
        "        return model\n",
        "\n",
        "    # Check outcome of the model\n",
        "    return show_results(\n",
        "        model, show_all, variable_main=\"c\",\n",
        "        title=f\"{data.columns[1]} = {' + '.join(f'c[{i}]*{data.columns[j]}' for i, j in zip(range(i_last), range(2, data.shape[1])))} + c[{i_last}]\"\n",
        "    )\n",
        "\n",
        "\n",
        "def show_results(model, show_others=False, variable_main=None, title=\"\"):\n",
        "    \"\"\"Show the results of the model.\n",
        "\n",
        "    Args:\n",
        "        model (gurobipy.Model): the model to show the results of.\n",
        "        show_others (bool, optional): whether to also show other variables apart from the coefficients or not; defaults to False.\n",
        "        title (str): the title of the data.\n",
        "    \"\"\"\n",
        "\n",
        "    # Print outcome of the model\n",
        "    print(f\"{model.ModelName}: {title}\")\n",
        "    print(f'Model: {model.NumVars} variables, {model.NumConstrs} constraints and {model.NumNZs} nonzeros')\n",
        "    print(f\"Optimal objective: {model.ObjVal:.2g} units of deviation.\\n\")\n",
        "    print(\"Optimized variables:\")\n",
        "\n",
        "    if show_others or (variable_main is None):\n",
        "        variables_optimized = [v for v in model.getVars()]\n",
        "\n",
        "    else:\n",
        "        variables_optimized = [v for v in model.getVars() if v.varName.startswith(variable_main)]\n",
        "\n",
        "    pprint({v.varName: f\"{round(v.x, 2):.2f}\" for v in variables_optimized})\n",
        "\n",
        "    # Print for all variables the most relevant attributes\n",
        "    print(\"\\nVariables' attributes: \")\n",
        "    print(\"VarName                  |     x_j      low   &   up |     c_j      low   &   up   type\")\n",
        "\n",
        "    for v in model.getVars():\n",
        "        print(f\"{v.VarName:24} |{v.X:8.2f} {v.lb:8.2f} {v.ub:8.2f} |{v.obj:8.2f} {v.saobjlow:8.2f} {v.saobjup:8.2f}      {v.vtype:3} \")\n",
        "\n",
        "    # Print for all constraints the most relevant attributes\n",
        "    print(\"\\nConstraints' attributes:\")\n",
        "    print(\"ConstrName               |    RHS       low   &   up |   Slack       Pi   CBasis\")\n",
        "\n",
        "    for c in model.getConstrs():\n",
        "        print(f\"{c.ConstrName:24} |{c.rhs:8.2g} {c.SArhslow:8.2g} {c.SArhsup:8.2g} |{c.Slack:8.2g} {c.pi:8.2g} {c.cbasis:8}     {c.Sense}=\")\n",
        "\n",
        "    return model\n"
      ]
    },
    {
      "cell_type": "markdown",
      "source": [
        "# **2. Model Formulation - Minimize the maximum of the absolute values of the residuals**\n",
        "\n",
        "### $\\mathrm{I.}$ Decision Variables\n",
        "We introduce the following decision variables for the least absolute deviations fit:\n",
        "\\begin{align*}\n",
        "    \\alpha:\n",
        "    &\\text{ Coefficient representing the slope of the line}\\\\\n",
        "    \\beta:\n",
        "    &\\text{ Coefficient representing the y-intercept of the line}\\\\\n",
        "    d_i:\n",
        "    &\\text{ Deviation bound for observation } i\n",
        "\\end{align*} \\\\\n",
        "\n",
        "### $\\mathrm{II.}$ Objective Function\n",
        "The objective is to minimize the sum of deviations:\n",
        "\\begin{align*}\n",
        "    &\\min\\quad \\sum_{i} d_i\n",
        "\\end{align*} \\\\\n",
        "\n",
        "### $\\mathrm{III.}$ Constraints\n",
        "To enforce the boundaries, we introduce the following constraints:\n",
        "\\begin{align*}\n",
        "    &-d_i \\leq x_{2,i} - \\alpha x_{1,i} - \\beta \\leq d_i\n",
        "\\end{align*}\n",
        "\n",
        "These constraints ensure that the difference between $x_{2,i}$ and the predicted value $\\alpha x_{1,i} + \\beta$ is bounded by the deviations $d_i$. \\\\\n",
        "\n",
        "### $\\mathrm{IV.}$ Matrix form\n",
        "The linear programming problem in matrix form can be written as: \\\\\n",
        "\\begin{align*}\n",
        "    &\\min\\quad\n",
        "    \\begin{bmatrix}\n",
        "        1 & 1 & \\dots & 1\n",
        "    \\end{bmatrix}\n",
        "    \\begin{bmatrix}\n",
        "        d_1 \\\\ d_2 \\\\ \\vdots \\\\ d_n\n",
        "    \\end{bmatrix}\\\\\n",
        "    &\\text{subject to} \\\\\n",
        "    & \\\\\n",
        "    &\\begin{bmatrix}\n",
        "        -1 &    &        &    &    &  x_{1,1} &      1 \\\\\n",
        "        -1 &    &        &    &    & -x_{1,1} &     -1 \\\\\n",
        "           & -1 &        &    &    &  x_{1,1} &      1 \\\\\n",
        "           & -1 &        &    &    & -x_{1,2} &     -1 \\\\\n",
        "           &    & \\ddots &    &    &   \\vdots & \\vdots \\\\\n",
        "           &    &        &    & -1 &  x_{1,n} &      1 \\\\\n",
        "           &    &        &    & -1 & -x_{1,n} &     -1\n",
        "    \\end{bmatrix}\n",
        "    \\begin{bmatrix}\n",
        "        d_{1} \\\\ d_{2} \\\\ \\vdots \\\\ d_{n} \\\\ \\alpha \\\\ \\beta\n",
        "    \\end{bmatrix} \\leq\n",
        "    \\begin{bmatrix}\n",
        "        x_{2,1} \\\\ -x_{2,1} \\\\ x_{2,2} \\\\ -x_{2,2} \\\\ \\vdots \\\\ x_{2,n} \\\\ -x_{2,n}\n",
        "    \\end{bmatrix}\n",
        "\\end{align*} \\\\\n",
        "\n",
        "where $n$ is the number of observations. \\\\\n",
        "\n",
        "### $\\mathrm{V.}$ Code"
      ],
      "metadata": {
        "id": "E-v9gG9J95Nq"
      }
    },
    {
      "cell_type": "code",
      "source": [
        "# Minimize the maximum deviation\n",
        "def minimize_sum_maxAD(data, show_deviations=False, verbose=True):\n",
        "    \"\"\"Minimize the sum of the maximum absolute deviations to optimize the least absolute deviations fit of the regression model for the given data.\n",
        "\n",
        "    Args:\n",
        "        data (pd.DataFrame): a dataframe containing the data with:\n",
        "        - The first column being the indices;\n",
        "        - The remaining columns being the coordinates of the points;\n",
        "        - The second column being the dependent variable.\n",
        "\n",
        "        show_deviations (bool, optional): whether to show the optimal maximum deviations or not; defaults to False.\n",
        "\n",
        "        verbose (bool, optional): whether to output the model's results or not; defaults to True.\n",
        "    \"\"\"\n",
        "\n",
        "    # Create a new model\n",
        "    model = Model(\"Least Absolute Deviations Fit - Maximum Deviation\")\n",
        "    model.Params.LogToConsole = 0\n",
        "\n",
        "    # Create default constants\n",
        "    subject = data.columns[0]\n",
        "    n_points = data.shape[0]\n",
        "    n_dimensions = data.shape[1] - 1\n",
        "    i_last = n_dimensions - 1\n",
        "\n",
        "    # Create variables\n",
        "    coefficients = model.addVars(n_dimensions, name=\"c\", lb=-GRB.INFINITY)\n",
        "    deviations = model.addVars(n_points, name=\"deviations\", lb=0)\n",
        "\n",
        "    # Set objective\n",
        "    model.setObjective(quicksum(deviations[i] for i in range(n_points)), GRB.MINIMIZE)\n",
        "\n",
        "    # Add constraints\n",
        "    for point in data.itertuples():\n",
        "        model.addConstr(\n",
        "            point[2] - quicksum(coefficients[i]*point[j] for i, j in zip(range(i_last), range(3, data.shape[1] + 1))) - coefficients[i_last] <= deviations[point[0]],\n",
        "            f\"deviation_{subject}{point[1]}_pos\"\n",
        "        )\n",
        "        model.addConstr(\n",
        "            point[2] - quicksum(coefficients[i]*point[j] for i, j in zip(range(i_last), range(3, data.shape[1] + 1))) - coefficients[i_last] >= -deviations[point[0]],\n",
        "            f\"deviation_{subject}{point[1]}_neg\"\n",
        "        )\n",
        "\n",
        "    # Optimize model\n",
        "    model.optimize()\n",
        "\n",
        "    if not verbose:\n",
        "        return model\n",
        "\n",
        "    # Check outcome of the model\n",
        "    return show_results(\n",
        "        model, show_deviations, variable_main=\"c\",\n",
        "        title=f\"{data.columns[1]} = {' + '.join(f'c[{i}]*{data.columns[j]}' for i, j in zip(range(i_last), range(2, data.shape[1])))} + c[{i_last}]\"\n",
        "    )\n"
      ],
      "metadata": {
        "id": "VY0L34Z-9x1N"
      },
      "execution_count": null,
      "outputs": []
    },
    {
      "cell_type": "markdown",
      "source": [
        "### Table 1.5: Employees Information"
      ],
      "metadata": {
        "id": "bvdaCi-O9-17"
      }
    },
    {
      "cell_type": "code",
      "source": [
        "# Table 1.5\n",
        "## URL of the text file\n",
        "url = \"https://raw.githubusercontent.com/yozw/lio-files/master/chapter01/employee.txt\"\n",
        "\n",
        "## Read the table into a pandas DataFrame\n",
        "df1_5 = pd.read_csv(url,delim_whitespace=True)  # Assuming the table is tab-delimited\n",
        "\n",
        "## Display the DataFrame\n",
        "print(\"Coordinates Data:\")\n",
        "pprint(df1_5)\n"
      ],
      "metadata": {
        "colab": {
          "base_uri": "https://localhost:8080/"
        },
        "id": "0MXcOOIjlXRB",
        "outputId": "fc5b829d-e97b-4e8c-eab9-f9b8942dd789"
      },
      "execution_count": null,
      "outputs": [
        {
          "output_type": "stream",
          "name": "stdout",
          "text": [
            "Coordinates Data:\n",
            "    Employee  Age  Salary\n",
            "0          1   31      20\n",
            "1          2   57      50\n",
            "2          3   37      30\n",
            "3          4   46      38\n",
            "4          5   32      21\n",
            "5          6   49      34\n",
            "6          7   36      26\n",
            "7          8   51      40\n",
            "8          9   53      38\n",
            "9         10   55      42\n",
            "10        11   43      26\n",
            "11        12   28      21\n",
            "12        13   34      23\n",
            "13        14   62      40\n",
            "14        15   31      25\n",
            "15        16   58      43\n",
            "16        17   47      35\n",
            "17        18   65      42\n",
            "18        19   28      25\n",
            "19        20   43      33\n"
          ]
        }
      ]
    },
    {
      "cell_type": "code",
      "source": [
        "## Run the 'sum of absolute deviations' model\n",
        "model1_5 = minimize_sum_AD(df1_5, show_all=False, verbose=True)\n"
      ],
      "metadata": {
        "id": "qA0kTrJ4-ium",
        "colab": {
          "base_uri": "https://localhost:8080/"
        },
        "outputId": "55d2a2ee-2108-4e4b-99df-674f92ae218f"
      },
      "execution_count": null,
      "outputs": [
        {
          "output_type": "stream",
          "name": "stdout",
          "text": [
            "Least Absolute Deviations Fit - Sum of Absolute Deviations: Age = c[0]*Salary + c[1]\n",
            "Model: 42 variables, 60 constraints and 140 nonzeros\n",
            "Optimal objective: 71 units of deviation.\n",
            "\n",
            "Optimized variables:\n",
            "{'c[0]': '1.14', 'c[1]': '7.00'}\n",
            "\n",
            "Variables' attributes: \n",
            "VarName                  |     x_j      low   &   up |     c_j      low   &   up   type\n",
            "c[0]                     |    1.14     -inf      inf |    0.00    -1.00     6.00      C   \n",
            "c[1]                     |    7.00     -inf      inf |    0.00    -0.14     0.02      C   \n",
            "residuals[0]             |    1.14     -inf      inf |    0.00    -0.05     0.27      C   \n",
            "residuals[1]             |   -7.14     -inf      inf |    0.00    -0.40     0.07      C   \n",
            "residuals[2]             |   -4.29     -inf      inf |    0.00    -0.08     0.50      C   \n",
            "residuals[3]             |   -4.43     -inf      inf |    0.00    -0.25     0.33      C   \n",
            "residuals[4]             |    1.00     -inf      inf |    0.00    -0.05     0.29      C   \n",
            "residuals[5]             |    3.14     -inf      inf |    0.00    -0.12     0.75      C   \n",
            "residuals[6]             |   -0.71     -inf      inf |    0.00    -0.06     0.38      C   \n",
            "residuals[7]             |   -1.71     -inf      inf |    0.00    -0.50     0.20      C   \n",
            "residuals[8]             |    2.57     -inf      inf |    0.00    -0.25     0.33      C   \n",
            "residuals[9]             |    0.00     -inf      inf |    0.00    -0.86     0.14      C   \n",
            "residuals[10]            |    6.29     -inf      inf |    0.00    -0.06     0.38      C   \n",
            "residuals[11]            |   -3.00     -inf      inf |    0.00    -0.05     0.29      C   \n",
            "residuals[12]            |    0.71     -inf      inf |    0.00    -0.05     0.32      C   \n",
            "residuals[13]            |    9.29     -inf      inf |    0.00    -0.50     0.20      C   \n",
            "residuals[14]            |   -4.57     -inf      inf |    0.00    -0.06     0.35      C   \n",
            "residuals[15]            |    1.86     -inf      inf |    0.00    -0.75     0.12      C   \n",
            "residuals[16]            |    0.00     -inf      inf |    0.00    -0.14     0.86      C   \n",
            "residuals[17]            |   10.00     -inf      inf |    0.00    -0.86     0.14      C   \n",
            "residuals[18]            |   -7.57     -inf      inf |    0.00    -0.06     0.35      C   \n",
            "residuals[19]            |   -1.71     -inf      inf |    0.00    -0.11     0.67      C   \n",
            "deviations[0]            |    1.14     0.00      inf |    1.00     0.95     1.27      C   \n",
            "deviations[1]            |    7.14     0.00      inf |    1.00     0.93     1.40      C   \n",
            "deviations[2]            |    4.29     0.00      inf |    1.00     0.50     1.08      C   \n",
            "deviations[3]            |    4.43     0.00      inf |    1.00     0.67     1.25      C   \n",
            "deviations[4]            |    1.00     0.00      inf |    1.00     0.95     1.29      C   \n",
            "deviations[5]            |    3.14     0.00      inf |    1.00     0.88     1.75      C   \n",
            "deviations[6]            |    0.71     0.00      inf |    1.00     0.62     1.06      C   \n",
            "deviations[7]            |    1.71     0.00      inf |    1.00     0.80     1.50      C   \n",
            "deviations[8]            |    2.57     0.00      inf |    1.00     0.75     1.33      C   \n",
            "deviations[9]            |    0.00     0.00      inf |    1.00     0.14      inf      C   \n",
            "deviations[10]           |    6.29     0.00      inf |    1.00     0.94     1.38      C   \n",
            "deviations[11]           |    3.00     0.00      inf |    1.00     0.71     1.05      C   \n",
            "deviations[12]           |    0.71     0.00      inf |    1.00     0.95     1.32      C   \n",
            "deviations[13]           |    9.29     0.00      inf |    1.00     0.50     1.20      C   \n",
            "deviations[14]           |    4.57     0.00      inf |    1.00     0.65     1.06      C   \n",
            "deviations[15]           |    1.86     0.00      inf |    1.00     0.25     1.12      C   \n",
            "deviations[16]           |    0.00     0.00      inf |    1.00     0.14      inf      C   \n",
            "deviations[17]           |   10.00     0.00      inf |    1.00     0.14     1.14      C   \n",
            "deviations[18]           |    7.57     0.00      inf |    1.00     0.65     1.06      C   \n",
            "deviations[19]           |    1.71     0.00      inf |    1.00     0.33     1.11      C   \n",
            "\n",
            "Constraints' attributes:\n",
            "ConstrName               |    RHS       low   &   up |   Slack       Pi   CBasis\n",
            "residual_Employee1       |     -31     -inf      -30 |       0       -1       -1     ==\n",
            "deviation_Employee1_pos  |       0     -inf      1.1 |       0       -1       -1     <=\n",
            "deviation_Employee1_neg  |       0     -2.3      inf |     2.3        0        0     <=\n",
            "residual_Employee2       |     -57      -64      inf |       0        1       -1     ==\n",
            "deviation_Employee2_pos  |       0      -14      inf |      14        0        0     <=\n",
            "deviation_Employee2_neg  |       0     -inf      7.1 |       0       -1       -1     <=\n",
            "residual_Employee3       |     -37      -41      inf |       0        1       -1     ==\n",
            "deviation_Employee3_pos  |       0     -8.6      inf |     8.6        0        0     <=\n",
            "deviation_Employee3_neg  |       0     -inf      4.3 |       0       -1       -1     <=\n",
            "residual_Employee4       |     -46      -50      inf |       0        1       -1     ==\n",
            "deviation_Employee4_pos  |       0     -8.9      inf |     8.9        0        0     <=\n",
            "deviation_Employee4_neg  |       0     -inf      4.4 |       0       -1       -1     <=\n",
            "residual_Employee5       |     -32     -inf      -31 |       0       -1       -1     ==\n",
            "deviation_Employee5_pos  |       0     -inf        1 |       0       -1       -1     <=\n",
            "deviation_Employee5_neg  |       0       -2      inf |       2        0        0     <=\n",
            "residual_Employee6       |     -49     -inf      -46 |       0       -1       -1     ==\n",
            "deviation_Employee6_pos  |       0     -inf      3.1 |       0       -1       -1     <=\n",
            "deviation_Employee6_neg  |       0     -6.3      inf |     6.3        0        0     <=\n",
            "residual_Employee7       |     -36      -37      inf |       0        1       -1     ==\n",
            "deviation_Employee7_pos  |       0     -1.4      inf |     1.4        0        0     <=\n",
            "deviation_Employee7_neg  |       0     -inf     0.71 |       0       -1       -1     <=\n",
            "residual_Employee8       |     -51      -53      inf |       0        1       -1     ==\n",
            "deviation_Employee8_pos  |       0     -3.4      inf |     3.4        0        0     <=\n",
            "deviation_Employee8_neg  |       0     -inf      1.7 |       0       -1       -1     <=\n",
            "residual_Employee9       |     -53     -inf      -50 |       0       -1       -1     ==\n",
            "deviation_Employee9_pos  |       0     -inf      2.6 |       0       -1       -1     <=\n",
            "deviation_Employee9_neg  |       0     -5.1      inf |     5.1        0        0     <=\n",
            "residual_Employee10      |     -55      -56      -55 |       0    -0.14       -1     ==\n",
            "deviation_Employee10_pos |       0        0     0.42 |       0    -0.14       -1     <=\n",
            "deviation_Employee10_neg |       0        0      inf |       0        0        0     <=\n",
            "residual_Employee11      |     -43     -inf      -37 |       0       -1       -1     ==\n",
            "deviation_Employee11_pos |       0     -inf      6.3 |       0       -1       -1     <=\n",
            "deviation_Employee11_neg |       0      -13      inf |      13        0        0     <=\n",
            "residual_Employee12      |     -28      -31      inf |       0        1       -1     ==\n",
            "deviation_Employee12_pos |       0       -6      inf |       6        0        0     <=\n",
            "deviation_Employee12_neg |       0     -inf        3 |       0       -1       -1     <=\n",
            "residual_Employee13      |     -34     -inf      -33 |       0       -1       -1     ==\n",
            "deviation_Employee13_pos |       0     -inf     0.71 |       0       -1       -1     <=\n",
            "deviation_Employee13_neg |       0     -1.4      inf |     1.4        0        0     <=\n",
            "residual_Employee14      |     -62     -inf      -53 |       0       -1       -1     ==\n",
            "deviation_Employee14_pos |       0     -inf      9.3 |       0       -1       -1     <=\n",
            "deviation_Employee14_neg |       0      -19      inf |      19        0        0     <=\n",
            "residual_Employee15      |     -31      -36      inf |       0        1       -1     ==\n",
            "deviation_Employee15_pos |       0     -9.1      inf |     9.1        0        0     <=\n",
            "deviation_Employee15_neg |       0     -inf      4.6 |       0       -1       -1     <=\n",
            "residual_Employee16      |     -58     -inf      -56 |       0       -1       -1     ==\n",
            "deviation_Employee16_pos |       0     -inf      1.9 |       0       -1       -1     <=\n",
            "deviation_Employee16_neg |       0     -3.7      inf |     3.7        0        0     <=\n",
            "residual_Employee17      |     -47      -47      -47 |       0     0.14       -1     ==\n",
            "deviation_Employee17_pos |       0        0      inf |       0        0        0     <=\n",
            "deviation_Employee17_neg |       0        0     0.26 |       0    -0.14       -1     <=\n",
            "residual_Employee18      |     -65     -inf      -55 |       0       -1       -1     ==\n",
            "deviation_Employee18_pos |       0     -inf       10 |       0       -1       -1     <=\n",
            "deviation_Employee18_neg |       0      -20      inf |      20        0        0     <=\n",
            "residual_Employee19      |     -28      -36      inf |       0        1       -1     ==\n",
            "deviation_Employee19_pos |       0      -15      inf |      15        0        0     <=\n",
            "deviation_Employee19_neg |       0     -inf      7.6 |       0       -1       -1     <=\n",
            "residual_Employee20      |     -43      -45      inf |       0        1       -1     ==\n",
            "deviation_Employee20_pos |       0     -3.4      inf |     3.4        0        0     <=\n",
            "deviation_Employee20_neg |       0     -inf      1.7 |       0       -1       -1     <=\n"
          ]
        }
      ]
    },
    {
      "cell_type": "code",
      "source": [
        "## Run the 'maximum absolute deviation' model\n",
        "model1_5 = minimize_sum_maxAD(df1_5, show_deviations=False, verbose=True)\n"
      ],
      "metadata": {
        "colab": {
          "base_uri": "https://localhost:8080/"
        },
        "id": "RuDUFX10DoFx",
        "outputId": "e23d9f75-f56a-48c7-c0cc-dd112ee7e406"
      },
      "execution_count": null,
      "outputs": [
        {
          "output_type": "stream",
          "name": "stdout",
          "text": [
            "Least Absolute Deviations Fit - Maximum Deviation: Age = c[0]*Salary + c[1]\n",
            "Model: 22 variables, 40 constraints and 120 nonzeros\n",
            "Optimal objective: 71 units of deviation.\n",
            "\n",
            "Optimized variables:\n",
            "{'c[0]': '1.14', 'c[1]': '7.00'}\n",
            "\n",
            "Variables' attributes: \n",
            "VarName                  |     x_j      low   &   up |     c_j      low   &   up   type\n",
            "c[0]                     |    1.14     -inf      inf |    0.00    -1.00     6.00      C   \n",
            "c[1]                     |    7.00     -inf      inf |    0.00    -0.14     0.02      C   \n",
            "deviations[0]            |    1.14     0.00      inf |    1.00     0.95     1.27      C   \n",
            "deviations[1]            |    7.14     0.00      inf |    1.00     0.93     1.40      C   \n",
            "deviations[2]            |    4.29     0.00      inf |    1.00     0.50     1.08      C   \n",
            "deviations[3]            |    4.43     0.00      inf |    1.00     0.67     1.25      C   \n",
            "deviations[4]            |    1.00     0.00      inf |    1.00     0.95     1.29      C   \n",
            "deviations[5]            |    3.14     0.00      inf |    1.00     0.88     1.75      C   \n",
            "deviations[6]            |    0.71     0.00      inf |    1.00     0.62     1.06      C   \n",
            "deviations[7]            |    1.71     0.00      inf |    1.00     0.80     1.50      C   \n",
            "deviations[8]            |    2.57     0.00      inf |    1.00     0.75     1.33      C   \n",
            "deviations[9]            |    0.00     0.00      inf |    1.00     0.14      inf      C   \n",
            "deviations[10]           |    6.29     0.00      inf |    1.00     0.94     1.38      C   \n",
            "deviations[11]           |    3.00     0.00      inf |    1.00     0.71     1.05      C   \n",
            "deviations[12]           |    0.71     0.00      inf |    1.00     0.95     1.32      C   \n",
            "deviations[13]           |    9.29     0.00      inf |    1.00     0.50     1.20      C   \n",
            "deviations[14]           |    4.57     0.00      inf |    1.00     0.65     1.06      C   \n",
            "deviations[15]           |    1.86     0.00      inf |    1.00     0.25     1.12      C   \n",
            "deviations[16]           |    0.00     0.00      inf |    1.00     0.14      inf      C   \n",
            "deviations[17]           |   10.00     0.00      inf |    1.00     0.14     1.14      C   \n",
            "deviations[18]           |    7.57     0.00      inf |    1.00     0.65     1.06      C   \n",
            "deviations[19]           |    1.71     0.00      inf |    1.00     0.33     1.11      C   \n",
            "\n",
            "Constraints' attributes:\n",
            "ConstrName               |    RHS       low   &   up |   Slack       Pi   CBasis\n",
            "deviation_Employee1_pos  |     -31     -inf      -30 |       0       -1       -1     <=\n",
            "deviation_Employee1_neg  |     -31     -inf      -29 |    -2.3        0        0     >=\n",
            "deviation_Employee2_pos  |     -57      -71      inf |      14        0        0     <=\n",
            "deviation_Employee2_neg  |     -57      -64      inf |       0        1       -1     >=\n",
            "deviation_Employee3_pos  |     -37      -46      inf |     8.6        0        0     <=\n",
            "deviation_Employee3_neg  |     -37      -41      inf |       0        1       -1     >=\n",
            "deviation_Employee4_pos  |     -46      -55      inf |     8.9        0        0     <=\n",
            "deviation_Employee4_neg  |     -46      -50      inf |       0        1       -1     >=\n",
            "deviation_Employee5_pos  |     -32     -inf      -31 |       0       -1       -1     <=\n",
            "deviation_Employee5_neg  |     -32     -inf      -30 |      -2        0        0     >=\n",
            "deviation_Employee6_pos  |     -49     -inf      -46 |       0       -1       -1     <=\n",
            "deviation_Employee6_neg  |     -49     -inf      -43 |    -6.3        0        0     >=\n",
            "deviation_Employee7_pos  |     -36      -37      inf |     1.4        0        0     <=\n",
            "deviation_Employee7_neg  |     -36      -37      inf |       0        1       -1     >=\n",
            "deviation_Employee8_pos  |     -51      -54      inf |     3.4        0        0     <=\n",
            "deviation_Employee8_neg  |     -51      -53      inf |       0        1       -1     >=\n",
            "deviation_Employee9_pos  |     -53     -inf      -50 |       0       -1       -1     <=\n",
            "deviation_Employee9_neg  |     -53     -inf      -48 |    -5.1        0        0     >=\n",
            "deviation_Employee10_pos |     -55      -55      -55 |       0    -0.14       -1     <=\n",
            "deviation_Employee10_neg |     -55     -inf      -55 |      -0        0        0     >=\n",
            "deviation_Employee11_pos |     -43     -inf      -37 |       0       -1       -1     <=\n",
            "deviation_Employee11_neg |     -43     -inf      -30 |     -13        0        0     >=\n",
            "deviation_Employee12_pos |     -28      -34      inf |       6        0        0     <=\n",
            "deviation_Employee12_neg |     -28      -31      inf |       0        1       -1     >=\n",
            "deviation_Employee13_pos |     -34     -inf      -33 |       0       -1       -1     <=\n",
            "deviation_Employee13_neg |     -34     -inf      -33 |    -1.4        0        0     >=\n",
            "deviation_Employee14_pos |     -62     -inf      -53 |       0       -1       -1     <=\n",
            "deviation_Employee14_neg |     -62     -inf      -43 |     -19        0        0     >=\n",
            "deviation_Employee15_pos |     -31      -40      inf |     9.1        0        0     <=\n",
            "deviation_Employee15_neg |     -31      -36      inf |       0        1       -1     >=\n",
            "deviation_Employee16_pos |     -58     -inf      -56 |       0       -1       -1     <=\n",
            "deviation_Employee16_neg |     -58     -inf      -54 |    -3.7        0        0     >=\n",
            "deviation_Employee17_pos |     -47      -47      inf |       0        0        0     <=\n",
            "deviation_Employee17_neg |     -47      -47      -47 |       0     0.14       -1     >=\n",
            "deviation_Employee18_pos |     -65     -inf      -55 |       0       -1       -1     <=\n",
            "deviation_Employee18_neg |     -65     -inf      -45 |     -20        0        0     >=\n",
            "deviation_Employee19_pos |     -28      -43      inf |      15        0        0     <=\n",
            "deviation_Employee19_neg |     -28      -36      inf |       0        1       -1     >=\n",
            "deviation_Employee20_pos |     -43      -46      inf |     3.4        0        0     <=\n",
            "deviation_Employee20_neg |     -43      -45      inf |       0        1       -1     >=\n"
          ]
        }
      ]
    },
    {
      "cell_type": "code",
      "source": [
        "import pandas as pd\n",
        "import numpy as np\n",
        "import matplotlib.pyplot as plt\n",
        "\n",
        "plt.scatter(df1_5.Salary, df1_5.Age)\n",
        "x = np.linspace(0, 70, 100)\n",
        "plt.plot(x, 1.14*x + 7, color='red', label='y = 1.14x + 7')\n",
        "plt.title('Scatterplot | Employees Data', fontdict={'fontweight': 'bold'})\n",
        "print('Visualizing the absolute deviations fit:\\n')"
      ],
      "metadata": {
        "colab": {
          "base_uri": "https://localhost:8080/",
          "height": 489
        },
        "id": "6gFaSaEOPQnx",
        "outputId": "32afa4e1-df26-4ad1-92b4-e82bdf5851af"
      },
      "execution_count": null,
      "outputs": [
        {
          "output_type": "stream",
          "name": "stdout",
          "text": [
            "Visualizing the absolute deviations fit:\n",
            "\n"
          ]
        },
        {
          "output_type": "display_data",
          "data": {
            "text/plain": [
              "<Figure size 640x480 with 1 Axes>"
            ],
            "image/png": "[encoded data removed]"
          },
          "metadata": {}
        }
      ]
    },
    {
      "cell_type": "code",
      "source": [
        "# Table 1.1\n",
        "## Data definition\n",
        "data = {\n",
        "    'Person': [1, 2, 3, 4, 5, 6, 7, 8, 9, 10, 11],\n",
        "    'b': [4585, 7865, 3379, 6203, 2466, 3248, 4972, 3437, 3845, 3878, 5674],\n",
        "    'a1': [2, 9, 7, 3, 1, 7, 6, 9, 1, 9, 5],\n",
        "    'a2': [10, 10, 2, 6, 9, 5, 7, 4, 4, 2, 9]\n",
        "}\n",
        "\n",
        "## Create a pandas DataFrame\n",
        "df1_1 = pd.DataFrame(data)\n",
        "\n",
        "## Display the DataFrame\n",
        "print(\"Coordinates Data:\")\n",
        "pprint(df1_1)"
      ],
      "metadata": {
        "colab": {
          "base_uri": "https://localhost:8080/"
        },
        "id": "SmeXlaW_niKo",
        "outputId": "77cd3571-8315-4f86-ce96-784655ccc3d5"
      },
      "execution_count": null,
      "outputs": [
        {
          "output_type": "stream",
          "name": "stdout",
          "text": [
            "Coordinates Data:\n",
            "    Person     b  a1  a2\n",
            "0        1  4585   2  10\n",
            "1        2  7865   9  10\n",
            "2        3  3379   7   2\n",
            "3        4  6203   3   6\n",
            "4        5  2466   1   9\n",
            "5        6  3248   7   5\n",
            "6        7  4972   6   7\n",
            "7        8  3437   9   4\n",
            "8        9  3845   1   4\n",
            "9       10  3878   9   2\n",
            "10      11  5674   5   9\n"
          ]
        }
      ]
    },
    {
      "cell_type": "code",
      "source": [
        "## Run the 'sum of absolute deviations' model\n",
        "model1_1 = minimize_sum_AD(df1_1, show_all=False, verbose=True)\n",
        "c"
      ],
      "metadata": {
        "id": "K7GImncoCkFi",
        "colab": {
          "base_uri": "https://localhost:8080/"
        },
        "outputId": "9b61de13-3c36-4390-d7a6-caa19adc6aa8"
      },
      "execution_count": null,
      "outputs": [
        {
          "output_type": "stream",
          "name": "stdout",
          "text": [
            "Least Absolute Deviations Fit - Sum of Absolute Deviations: b = c[0]*a1 + c[1]*a2 + c[2]\n",
            "Model: 25 variables, 33 constraints and 88 nonzeros\n",
            "Optimal objective: 9.7e+03 units of deviation.\n",
            "\n",
            "Optimized variables:\n",
            "{'c[0]': '249.50', 'c[1]': '368.50', 'c[2]': '895.50'}\n",
            "\n",
            "Variables' attributes: \n",
            "VarName                  |     x_j      low   &   up |     c_j      low   &   up   type\n",
            "c[0]                     |  249.50     -inf      inf |    0.00    -0.40     1.20      C   \n",
            "c[1]                     |  368.50     -inf      inf |    0.00    -0.67     2.67      C   \n",
            "c[2]                     |  895.50     -inf      inf |    0.00    -0.16     0.04      C   \n",
            "residuals[0]             | -494.50     -inf      inf |    0.00    -0.18     0.35      C   \n",
            "residuals[1]             | 1039.00     -inf      inf |    0.00    -0.33     0.08      C   \n",
            "residuals[2]             |    0.00     -inf      inf |    0.00    -0.20     0.80      C   \n",
            "residuals[3]             | 2348.00     -inf      inf |    0.00    -0.11     0.37      C   \n",
            "residuals[4]             |-1995.50     -inf      inf |    0.00    -0.11     0.26      C   \n",
            "residuals[5]             |-1236.50     -inf      inf |    0.00    -2.00     1.33      C   \n",
            "residuals[6]             |    0.00     -inf      inf |    0.00    -1.20     0.80      C   \n",
            "residuals[7]             |-1178.00     -inf      inf |    0.00    -0.50     0.33      C   \n",
            "residuals[8]             | 1226.00     -inf      inf |    0.00    -0.06     0.21      C   \n",
            "residuals[9]             |    0.00     -inf      inf |    0.00    -0.60     0.40      C   \n",
            "residuals[10]            |  214.50     -inf      inf |    0.00    -0.86     0.57      C   \n",
            "deviations[0]            |  494.50     0.00      inf |    1.00     0.65     1.18      C   \n",
            "deviations[1]            | 1039.00     0.00      inf |    1.00     0.67     1.08      C   \n",
            "deviations[2]            |    0.00     0.00      inf |    1.00     0.20      inf      C   \n",
            "deviations[3]            | 2348.00     0.00      inf |    1.00     0.89     1.38      C   \n",
            "deviations[4]            | 1995.50     0.00      inf |    1.00     0.74     1.11      C   \n",
            "deviations[5]            | 1236.50     0.00      inf |    1.00     0.00     3.00      C   \n",
            "deviations[6]            |    0.00     0.00      inf |    1.00     0.20      inf      C   \n",
            "deviations[7]            | 1178.00     0.00      inf |    1.00     0.67     1.50      C   \n",
            "deviations[8]            | 1226.00     0.00      inf |    1.00     0.94     1.21      C   \n",
            "deviations[9]            |    0.00     0.00      inf |    1.00     0.40      inf      C   \n",
            "deviations[10]           |  214.50     0.00      inf |    1.00     0.14     1.57      C   \n",
            "\n",
            "Constraints' attributes:\n",
            "ConstrName               |    RHS       low   &   up |   Slack       Pi   CBasis\n",
            "residual_Person1         |-4.6e+03 -5.1e+03      inf |       0        1       -1     ==\n",
            "deviation_Person1_pos    |       0 -9.9e+02      inf | 9.9e+02        0        0     <=\n",
            "deviation_Person1_neg    |       0     -inf  4.9e+02 |       0       -1       -1     <=\n",
            "residual_Person2         |-7.9e+03     -inf -6.8e+03 |       0       -1       -1     ==\n",
            "deviation_Person2_pos    |       0     -inf    1e+03 |       0       -1       -1     <=\n",
            "deviation_Person2_neg    |       0 -2.1e+03      inf | 2.1e+03        0        0     <=\n",
            "residual_Person3         |-3.4e+03 -3.7e+03 -2.9e+03 |       0      0.2       -1     ==\n",
            "deviation_Person3_pos    |       0        0      inf |       0        0        0     <=\n",
            "deviation_Person3_neg    |       0        0  3.6e+02 |       0     -0.2       -1     <=\n",
            "residual_Person4         |-6.2e+03     -inf -3.9e+03 |       0       -1       -1     ==\n",
            "deviation_Person4_pos    |       0     -inf  2.3e+03 |       0       -1       -1     <=\n",
            "deviation_Person4_neg    |       0 -4.7e+03      inf | 4.7e+03        0        0     <=\n",
            "residual_Person5         |-2.5e+03 -4.5e+03      inf |       0        1       -1     ==\n",
            "deviation_Person5_pos    |       0   -4e+03      inf |   4e+03        0        0     <=\n",
            "deviation_Person5_neg    |       0     -inf    2e+03 |       0       -1       -1     <=\n",
            "residual_Person6         |-3.2e+03 -4.5e+03      inf |       0        1       -1     ==\n",
            "deviation_Person6_pos    |       0 -2.5e+03      inf | 2.5e+03        0        0     <=\n",
            "deviation_Person6_neg    |       0     -inf  1.2e+03 |       0       -1       -1     <=\n",
            "residual_Person7         |  -5e+03 -5.1e+03 -4.7e+03 |       0      0.2       -1     ==\n",
            "deviation_Person7_pos    |       0 -3.1e+02        0 |       0     -0.4       -1     <=\n",
            "deviation_Person7_neg    |       0 -6.2e+02        0 |       0     -0.6       -1     <=\n",
            "residual_Person8         |-3.4e+03 -4.6e+03      inf |       0        1       -1     ==\n",
            "deviation_Person8_pos    |       0 -2.4e+03      inf | 2.4e+03        0        0     <=\n",
            "deviation_Person8_neg    |       0     -inf  1.2e+03 |       0       -1       -1     <=\n",
            "residual_Person9         |-3.8e+03     -inf -2.6e+03 |       0       -1       -1     ==\n",
            "deviation_Person9_pos    |       0     -inf  1.2e+03 |       0       -1       -1     <=\n",
            "deviation_Person9_neg    |       0 -2.5e+03      inf | 2.5e+03        0        0     <=\n",
            "residual_Person10        |-3.9e+03 -4.2e+03 -3.4e+03 |       0     -0.4       -1     ==\n",
            "deviation_Person10_pos   |       0        0  4.4e+02 |       0     -0.4       -1     <=\n",
            "deviation_Person10_neg   |       0        0      inf |       0        0        0     <=\n",
            "residual_Person11        |-5.7e+03     -inf -5.5e+03 |       0       -1       -1     ==\n",
            "deviation_Person11_pos   |       0     -inf  2.1e+02 |       0       -1       -1     <=\n",
            "deviation_Person11_neg   |       0 -4.3e+02      inf | 4.3e+02        0        0     <=\n"
          ]
        }
      ]
    },
    {
      "cell_type": "code",
      "source": [
        "## Run the 'maximum absolute deviation' model\n",
        "model1_1 = minimize_sum_maxAD(df1_1, show_deviations=False, verbose=True)\n"
      ],
      "metadata": {
        "colab": {
          "base_uri": "https://localhost:8080/"
        },
        "id": "DCrYGqmKD6LK",
        "outputId": "847e2edb-7fd3-47c1-e018-ef169f766be6"
      },
      "execution_count": null,
      "outputs": [
        {
          "output_type": "stream",
          "name": "stdout",
          "text": [
            "Least Absolute Deviations Fit - Maximum Deviation: b = c[0]*a1 + c[1]*a2 + c[2]\n",
            "Model: 14 variables, 22 constraints and 88 nonzeros\n",
            "Optimal objective: 9.7e+03 units of deviation.\n",
            "\n",
            "Optimized variables:\n",
            "{'c[0]': '249.50', 'c[1]': '368.50', 'c[2]': '895.50'}\n",
            "\n",
            "Variables' attributes: \n",
            "VarName                  |     x_j      low   &   up |     c_j      low   &   up   type\n",
            "c[0]                     |  249.50     -inf      inf |    0.00    -0.40     1.20      C   \n",
            "c[1]                     |  368.50     -inf      inf |    0.00    -0.67     2.67      C   \n",
            "c[2]                     |  895.50     -inf      inf |    0.00    -0.16     0.04      C   \n",
            "deviations[0]            |  494.50     0.00      inf |    1.00     0.65     1.18      C   \n",
            "deviations[1]            | 1039.00     0.00      inf |    1.00     0.67     1.08      C   \n",
            "deviations[2]            |    0.00     0.00      inf |    1.00     0.20      inf      C   \n",
            "deviations[3]            | 2348.00     0.00      inf |    1.00     0.89     1.38      C   \n",
            "deviations[4]            | 1995.50     0.00      inf |    1.00     0.74     1.11      C   \n",
            "deviations[5]            | 1236.50     0.00      inf |    1.00     0.00     3.00      C   \n",
            "deviations[6]            |    0.00     0.00      inf |    1.00     0.20      inf      C   \n",
            "deviations[7]            | 1178.00     0.00      inf |    1.00     0.67     1.50      C   \n",
            "deviations[8]            | 1226.00     0.00      inf |    1.00     0.94     1.21      C   \n",
            "deviations[9]            |    0.00     0.00      inf |    1.00     0.40      inf      C   \n",
            "deviations[10]           |  214.50     0.00      inf |    1.00     0.14     1.57      C   \n",
            "\n",
            "Constraints' attributes:\n",
            "ConstrName               |    RHS       low   &   up |   Slack       Pi   CBasis\n",
            "deviation_Person1_pos    |-4.6e+03 -5.6e+03      inf | 9.9e+02        0        0     <=\n",
            "deviation_Person1_neg    |-4.6e+03 -5.1e+03      inf |       0        1       -1     >=\n",
            "deviation_Person2_pos    |-7.9e+03     -inf -6.8e+03 |       0       -1       -1     <=\n",
            "deviation_Person2_neg    |-7.9e+03     -inf -5.8e+03 |-2.1e+03        0        0     >=\n",
            "deviation_Person3_pos    |-3.4e+03 -3.4e+03      inf | 2.3e-13        0        0     <=\n",
            "deviation_Person3_neg    |-3.4e+03 -3.7e+03 -3.4e+03 |       0      0.2       -1     >=\n",
            "deviation_Person4_pos    |-6.2e+03     -inf -3.9e+03 |       0       -1       -1     <=\n",
            "deviation_Person4_neg    |-6.2e+03     -inf -1.5e+03 |-4.7e+03        0        0     >=\n",
            "deviation_Person5_pos    |-2.5e+03 -6.5e+03      inf |   4e+03        0        0     <=\n",
            "deviation_Person5_neg    |-2.5e+03 -4.5e+03      inf |       0        1       -1     >=\n",
            "deviation_Person6_pos    |-3.2e+03 -5.7e+03      inf | 2.5e+03        0        0     <=\n",
            "deviation_Person6_neg    |-3.2e+03 -4.5e+03      inf |       0        1       -1     >=\n",
            "deviation_Person7_pos    |  -5e+03 -5.3e+03   -5e+03 |       0     -0.4       -1     <=\n",
            "deviation_Person7_neg    |  -5e+03   -5e+03 -4.4e+03 |       0      0.6       -1     >=\n",
            "deviation_Person8_pos    |-3.4e+03 -5.8e+03      inf | 2.4e+03        0        0     <=\n",
            "deviation_Person8_neg    |-3.4e+03 -4.6e+03      inf |       0        1       -1     >=\n",
            "deviation_Person9_pos    |-3.8e+03     -inf -2.6e+03 |       0       -1       -1     <=\n",
            "deviation_Person9_neg    |-3.8e+03     -inf -1.4e+03 |-2.5e+03        0        0     >=\n",
            "deviation_Person10_pos   |-3.9e+03 -3.9e+03 -3.4e+03 |       0     -0.4       -1     <=\n",
            "deviation_Person10_neg   |-3.9e+03     -inf -3.9e+03 |      -0        0        0     >=\n",
            "deviation_Person11_pos   |-5.7e+03     -inf -5.5e+03 |       0       -1       -1     <=\n",
            "deviation_Person11_neg   |-5.7e+03     -inf -5.2e+03 |-4.3e+02        0        0     >=\n"
          ]
        }
      ]
    },
    {
      "cell_type": "markdown",
      "metadata": {
        "id": "Pqrl_nWx_07M"
      },
      "source": [
        "## <font color=red>Optional</font>\n",
        "### Some extra code to illustrate an exercise from Tutorial 1\n",
        "Exercise 1.8.7. Play with the value for alfa and beta (direction of the constraint) to find the unique solution as indicated in the table provided by the authors."
      ]
    },
    {
      "cell_type": "code",
      "execution_count": null,
      "metadata": {
        "colab": {
          "base_uri": "https://localhost:8080/"
        },
        "id": "Vc__5Xq6_07M",
        "outputId": "437ed788-dfc3-4122-f197-34a51769436b"
      },
      "outputs": [
        {
          "output_type": "stream",
          "name": "stdout",
          "text": [
            "Restricted license - for non-production use only - expires 2025-11-24\n",
            "The model cannot be solved because it is unbounded\n",
            "Status code:  5 \n",
            "See: https://www.gurobi.com/documentation/11.0/refman/optimization_status_codes.html#sec:StatusCodes\n"
          ]
        }
      ],
      "source": [
        "from gurobipy import *\n",
        "\n",
        "alfa = -2\n",
        "beta = -3\n",
        "\n",
        "try:\n",
        "    m = Model(\"Exercise 1.8.7 (2024)\")\n",
        "    m.Params.LogToConsole = 0\n",
        "    m.Params.DualReductions = 0\n",
        "\n",
        "    x = m.addVars(2, name = \"x\")              # Define decision variables\n",
        "    x[1].lb = -1e21                           # -1e21 < -1e20 and therefore considered to be -inf\n",
        "\n",
        "    m.setObjective( x.sum(), GRB.MINIMIZE)\n",
        "\n",
        "    m.addConstr( alfa*x[0] + beta*x[1] >= 1, 'Constraint0')\n",
        "\n",
        "    m.optimize()\n",
        "\n",
        "    status = m.Status\n",
        "    if status == GRB.UNBOUNDED:\n",
        "        print(\"The model cannot be solved because it is unbounded\")\n",
        "    elif status == GRB.OPTIMAL:\n",
        "        print(f\"The optimal objective is {m.ObjVal:6.2f}\")\n",
        "    elif status != GRB.INF_OR_UNBD and status != GRB.INFEASIBLE:\n",
        "        print(f\"Optimization was stopped with status {status}\")\n",
        "    if status != GRB.OPTIMAL:\n",
        "        print(\"Status code: \", status, \"\\nSee: https://www.gurobi.com/documentation/11.0/refman/optimization_status_codes.html#sec:StatusCodes\")\n",
        "    else:\n",
        "        # Print for all variables the most relevant attributes\n",
        "        print(\"\\nVarName           |     x_j   low &  up   |     c_j  low & up \")\n",
        "        for v in m.getVars():\n",
        "            print(f\"{v.VarName:17} |{v.X:8.3f} {v.lb:6.2f} {v.ub:6.2f} |{v.obj:8.2f} {v.saobjlow:6.2f} {v.saobjup:6.2f}\")\n",
        "\n",
        "        # Print for all constraints the most relevant attributes\n",
        "        print(\"\\nConstrName        |    RHS    low &  up   |   Slack     Pi   CBasis\")\n",
        "        for c in m.getConstrs():\n",
        "            print(f\"{c.ConstrName:17} |{c.rhs:8.2f} {c.SArhslow:6.2f} {c.SArhsup:6.2f} |{c.Slack:8.2f} {c.pi:6.2f} {c.cbasis:6}    {c.Sense}=\")\n",
        "\n",
        "except gp.GurobiError as e:\n",
        "    print('Error code ' + str(e.errno) + ': ' + str(e))\n",
        "except AttributeError:\n",
        "    print('Encountered an attribute error')"
      ]
    }
  ],
  "metadata": {
    "kernelspec": {
      "display_name": "Python 3",
      "language": "python",
      "name": "python3"
    },
    "language_info": {
      "codemirror_mode": {
        "name": "ipython",
        "version": 3
      },
      "file_extension": ".py",
      "mimetype": "text/x-python",
      "name": "python",
      "nbconvert_exporter": "python",
      "pygments_lexer": "ipython3",
      "version": "3.7.3"
    },
    "colab": {
      "provenance": []
    }
  },
  "nbformat": 4,
  "nbformat_minor": 0
}
